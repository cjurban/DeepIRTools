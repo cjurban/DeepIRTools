{
 "cells": [
  {
   "cell_type": "markdown",
   "id": "d905ca68",
   "metadata": {},
   "source": [
    "# A Big Big-Five Personality Factors Example"
   ]
  },
  {
   "cell_type": "markdown",
   "id": "601e578d",
   "metadata": {},
   "source": [
    "We'll begin by downloading and pre-processing the data set, which consists of over 1 million people's responses to 50 Big 5 items (10 items/factor, 5 categories/item).\n",
    "\n",
    "After some basic pre-processing, we cut the data down to around 695K people."
   ]
  },
  {
   "cell_type": "code",
   "execution_count": 1,
   "id": "e3ab91f3",
   "metadata": {},
   "outputs": [
    {
     "name": "stdout",
     "output_type": "stream",
     "text": [
      "torch.Size([694512, 50])\n"
     ]
    }
   ],
   "source": [
    "import os\n",
    "import urllib.request\n",
    "import shutil\n",
    "import pandas as pd\n",
    "\n",
    "from utils import *\n",
    "from figures import *\n",
    "\n",
    "# Download data.\n",
    "filepath = \"./data/IPIP-FFM-data-8Nov2018/data-final.csv\"\n",
    "if not os.path.exists(filepath):\n",
    "    os.makedirs(os.path.dirname(\"./data/\"), exist_ok=True)\n",
    "    urllib.request.urlretrieve(\"https://openpsychometrics.org/_rawdata/IPIP-FFM-data-8Nov2018.zip\",\n",
    "                               \"./data/ipip-ffm.zip\")\n",
    "    shutil.unpack_archive(\"./data/ipip-ffm.zip\", \"./data/\")\n",
    "\n",
    "# Pre-processing.\n",
    "data = pd.read_csv(filepath, sep = \"\\t\", header = 0)\n",
    "data = data[data[\"IPC\"] == 1] # Drop multiple submissions from same IP address\n",
    "data.iloc[:, 0:50] = data.iloc[:, 0:50].dropna() # Drop NaNs\n",
    "data = data[data.iloc[:, 0:50].sum(1) > 0] # Drop all missing responses\n",
    "reverse_coded_items = [\"EXT2\", \"EXT4\", \"EXT6\", \"EXT8\", \"EXT10\", \"AGR1\", \"AGR3\", \"AGR5\", \"AGR7\",\n",
    "                       \"CSN2\", \"CSN4\", \"CSN6\", \"CSN8\", \"EST2\", \"EST4\", \"OPN2\", \"OPN4\", \"OPN6\"]\n",
    "data[reverse_coded_items] = (1 - data[reverse_coded_items] / 5) * 5 # Fix reverse-coded items\n",
    "data = torch.from_numpy(data.iloc[:, 0:50].to_numpy()) - 1\n",
    "missing_mask = 1 * (data != -1)\n",
    "data[data == -1] = 0\n",
    "\n",
    "print(data.shape)"
   ]
  },
  {
   "cell_type": "markdown",
   "id": "4f4443b2",
   "metadata": {},
   "source": [
    "## Exploratory Item Factor Analysis"
   ]
  },
  {
   "cell_type": "markdown",
   "id": "9c287306",
   "metadata": {},
   "source": [
    "We'll first conduct exploratory item factor analysis (IFA).\n",
    "\n",
    "A typical goal in this context is to determine the number of latent factors underlying the data. We can do this using a log-likelihood (LL) scree plot approach where we fit a number of models with different latent dimensions and estimate the LL on a held-out data set for each dimension. We then plot these LLs and pick the latent dimension corresponding to an \"elbow\" in the plot."
   ]
  },
  {
   "cell_type": "code",
   "execution_count": 2,
   "id": "f09ab1c7",
   "metadata": {},
   "outputs": [
    {
     "name": "stdout",
     "output_type": "stream",
     "text": [
      "\n",
      "Latent size =  3\n",
      "\n",
      "Fitting started\n",
      "Epoch =       1 Iter. =  26601   Current mean loss = 61.75   Intervals no change = 100\n",
      "Fitting ended in  84.61  seconds\n",
      "\n",
      "Computing approx. LL\n",
      "Approx. LL computed in 15.01 seconds\n",
      "\n",
      "Latent size =  4\n",
      "\n",
      "Fitting started\n",
      "Epoch =       0 Iter. =  17901   Current mean loss = 60.31   Intervals no change = 100\n",
      "Fitting ended in  53.14  seconds\n",
      "\n",
      "Computing approx. LL\n",
      "Approx. LL computed in 14.55 seconds\n",
      "\n",
      "Latent size =  5\n",
      "\n",
      "Fitting started\n",
      "Epoch =       1 Iter. =  27501   Current mean loss = 59.60   Intervals no change = 100\n",
      "Fitting ended in  85.46  seconds\n",
      "\n",
      "Computing approx. LL\n",
      "Approx. LL computed in 16.86 seconds\n",
      "\n",
      "Latent size =  6\n",
      "\n",
      "Fitting started\n",
      "Epoch =       0 Iter. =  17801   Current mean loss = 59.42   Intervals no change = 100\n",
      "Fitting ended in  53.24  seconds\n",
      "\n",
      "Computing approx. LL\n",
      "Approx. LL computed in 17.6 seconds\n",
      "\n",
      "Latent size =  7\n",
      "\n",
      "Fitting started\n",
      "Epoch =       1 Iter. =  27701   Current mean loss = 59.15   Intervals no change = 100\n",
      "Fitting ended in  83.09  seconds\n",
      "\n",
      "Computing approx. LL\n",
      "Approx. LL computed in 18.25 seconds\n",
      "\n",
      "Latent size =  8\n",
      "\n",
      "Fitting started\n",
      "Epoch =       1 Iter. =  37101   Current mean loss = 59.29   Intervals no change = 100\n",
      "Fitting ended in  111.88  seconds\n",
      "\n",
      "Computing approx. LL\n",
      "Approx. LL computed in 17.4 seconds\n"
     ]
    },
    {
     "name": "stderr",
     "output_type": "stream",
     "text": [
      "/Users/gateslab/school/code/DeepIRTools/figures.py:85: UserWarning: Matplotlib is currently using module://matplotlib_inline.backend_inline, which is a non-GUI backend, so cannot show the figure.\n",
      "  fig.show()\n"
     ]
    },
    {
     "data": {
      "image/png": "[encoded data removed]",
      "text/plain": [
       "<Figure size 360x360 with 1 Axes>"
      ]
     },
     "metadata": {
      "needs_background": "light"
     },
     "output_type": "display_data"
    }
   ],
   "source": [
    "n_items = data.shape[1]\n",
    "\n",
    "# This will take a few minutes to run.\n",
    "ll_list = screeplot(latent_sizes = [int(i + 1) for i in range(2, 8)],\n",
    "                    data = data,\n",
    "                    n_cats = [5] * n_items,\n",
    "                    test_size = 0.01,\n",
    "                    inference_net_sizes_list = [[100]] * 10,\n",
    "                    learning_rates = [5e-3] * 10,\n",
    "                    missing_mask = missing_mask,\n",
    "                    device = \"cpu\",                  \n",
    "                    iw_samples_fit = 5,\n",
    "                    iw_samples_ll = 500,\n",
    "                   )"
   ]
  },
  {
   "cell_type": "markdown",
   "id": "52f94964",
   "metadata": {},
   "source": [
    "Another goal in the exploratory context is to uncover the factor loadings structure.\n",
    "\n",
    "Since we found an \"elbow\" at 5 latent factors, we fit a 5-factor IFA model with unconstrained loadings and standard normal factors. We then use Geomin oblique rotation from the FactorAnalyzer package to produce rotated loadings, which have a clear simple structure."
   ]
  },
  {
   "cell_type": "code",
   "execution_count": 3,
   "id": "5ab0f087",
   "metadata": {},
   "outputs": [
    {
     "name": "stdout",
     "output_type": "stream",
     "text": [
      "\n",
      "Fitting started\n",
      "Epoch =       0 Iter. =  16601   Current mean loss = 59.72   Intervals no change = 100\n",
      "Fitting ended in  52.82  seconds\n"
     ]
    },
    {
     "data": {
      "image/png": "[encoded data removed]",
      "text/plain": [
       "<Figure size 432x288 with 2 Axes>"
      ]
     },
     "metadata": {
      "needs_background": "light"
     },
     "output_type": "display_data"
    }
   ],
   "source": [
    "from factor_analyzer import Rotator\n",
    "\n",
    "model = ImportanceWeightedEstimator(learning_rate = 5e-3,\n",
    "                                    device = \"cpu\",\n",
    "                                    log_interval = 100,\n",
    "                                    input_size = n_items,\n",
    "                                    inference_net_sizes = [100],\n",
    "                                    latent_size = 5,\n",
    "                                    n_cats = [5] * n_items,\n",
    "                                   )\n",
    "model.fit(data, missing_mask=missing_mask, iw_samples=5)\n",
    "\n",
    "rotator = Rotator(method = \"geomin_obl\")\n",
    "rot_loadings = rotator.fit_transform(model.loadings)\n",
    "loadings_heatmap(rot_loadings)"
   ]
  },
  {
   "cell_type": "markdown",
   "id": "529181d6",
   "metadata": {},
   "source": [
    "## Confirmatory Item Factor Analysis"
   ]
  },
  {
   "cell_type": "markdown",
   "id": "a4b0569d",
   "metadata": {},
   "source": [
    "In the confirmatory IFA setting, researchers have *a priori* theories about the loadings structure which they want to test for goodness-of-fit.\n",
    "\n",
    "There are several ways to implement these constraints. One is to use a binary matrix *Q* whose elements are zero if the corresponding loading is set to zero and one otherwise.\n",
    "\n",
    "We demonstrate this by imposing simple stucture on the loadings matrix using *Q* below. We also estimate the correlations between the latent factors."
   ]
  },
  {
   "cell_type": "code",
   "execution_count": 4,
   "id": "de964508",
   "metadata": {},
   "outputs": [
    {
     "name": "stdout",
     "output_type": "stream",
     "text": [
      "\n",
      "Fitting started\n",
      "Epoch =       0 Iter. =  18701   Current mean loss = 60.52   Intervals no change = 100\n",
      "Fitting ended in  88.9  seconds\n",
      "\n",
      " tensor([[1.7800, 0.0000, 0.0000, 0.0000, 0.0000],\n",
      "        [1.6700, 0.0000, 0.0000, 0.0000, 0.0000],\n",
      "        [1.9600, 0.0000, 0.0000, 0.0000, 0.0000],\n",
      "        [1.9200, 0.0000, 0.0000, 0.0000, 0.0000],\n",
      "        [2.3500, 0.0000, 0.0000, 0.0000, 0.0000],\n",
      "        [1.3000, 0.0000, 0.0000, 0.0000, 0.0000],\n",
      "        [2.2300, 0.0000, 0.0000, 0.0000, 0.0000],\n",
      "        [1.0900, 0.0000, 0.0000, 0.0000, 0.0000],\n",
      "        [1.4700, 0.0000, 0.0000, 0.0000, 0.0000],\n",
      "        [1.7900, 0.0000, 0.0000, 0.0000, 0.0000],\n",
      "        [0.0000, 1.8900, 0.0000, 0.0000, 0.0000],\n",
      "        [0.0000, 1.1400, 0.0000, 0.0000, 0.0000],\n",
      "        [0.0000, 1.5100, 0.0000, 0.0000, 0.0000],\n",
      "        [0.0000, 0.9100, 0.0000, 0.0000, 0.0000],\n",
      "        [0.0000, 1.2100, 0.0000, 0.0000, 0.0000],\n",
      "        [0.0000, 2.1300, 0.0000, 0.0000, 0.0000],\n",
      "        [0.0000, 2.2700, 0.0000, 0.0000, 0.0000],\n",
      "        [0.0000, 2.5700, 0.0000, 0.0000, 0.0000],\n",
      "        [0.0000, 1.8700, 0.0000, 0.0000, 0.0000],\n",
      "        [0.0000, 1.7100, 0.0000, 0.0000, 0.0000],\n",
      "        [0.0000, 0.0000, 1.7000, 0.0000, 0.0000],\n",
      "        [0.0000, 0.0000, 1.5100, 0.0000, 0.0000],\n",
      "        [0.0000, 0.0000, 0.6600, 0.0000, 0.0000],\n",
      "        [0.0000, 0.0000, 2.6600, 0.0000, 0.0000],\n",
      "        [0.0000, 0.0000, 1.8700, 0.0000, 0.0000],\n",
      "        [0.0000, 0.0000, 1.4200, 0.0000, 0.0000],\n",
      "        [0.0000, 0.0000, 1.8200, 0.0000, 0.0000],\n",
      "        [0.0000, 0.0000, 1.5300, 0.0000, 0.0000],\n",
      "        [0.0000, 0.0000, 2.1500, 0.0000, 0.0000],\n",
      "        [0.0000, 0.0000, 1.0900, 0.0000, 0.0000],\n",
      "        [0.0000, 0.0000, 0.0000, 1.6200, 0.0000],\n",
      "        [0.0000, 0.0000, 0.0000, 1.1700, 0.0000],\n",
      "        [0.0000, 0.0000, 0.0000, 0.8900, 0.0000],\n",
      "        [0.0000, 0.0000, 0.0000, 1.3400, 0.0000],\n",
      "        [0.0000, 0.0000, 0.0000, 1.5200, 0.0000],\n",
      "        [0.0000, 0.0000, 0.0000, 1.4600, 0.0000],\n",
      "        [0.0000, 0.0000, 0.0000, 1.2700, 0.0000],\n",
      "        [0.0000, 0.0000, 0.0000, 1.1400, 0.0000],\n",
      "        [0.0000, 0.0000, 0.0000, 1.4400, 0.0000],\n",
      "        [0.0000, 0.0000, 0.0000, 1.0500, 0.0000],\n",
      "        [0.0000, 0.0000, 0.0000, 0.0000, 1.2000],\n",
      "        [0.0000, 0.0000, 0.0000, 0.0000, 1.4300],\n",
      "        [0.0000, 0.0000, 0.0000, 0.0000, 1.4000],\n",
      "        [0.0000, 0.0000, 0.0000, 0.0000, 1.3000],\n",
      "        [0.0000, 0.0000, 0.0000, 0.0000, 1.6800],\n",
      "        [0.0000, 0.0000, 0.0000, 0.0000, 1.5500],\n",
      "        [0.0000, 0.0000, 0.0000, 0.0000, 1.0700],\n",
      "        [0.0000, 0.0000, 0.0000, 0.0000, 1.0500],\n",
      "        [0.0000, 0.0000, 0.0000, 0.0000, 0.7800],\n",
      "        [0.0000, 0.0000, 0.0000, 0.0000, 2.1700]])\n",
      "\n",
      " tensor([[ 1.0000, -0.1900,  0.4100,  0.0900,  0.2500],\n",
      "        [-0.1900,  1.0000,  0.0000, -0.2100, -0.0900],\n",
      "        [ 0.4100,  0.0000,  1.0000,  0.1500,  0.1700],\n",
      "        [ 0.0900, -0.2100,  0.1500,  1.0000,  0.1700],\n",
      "        [ 0.2500, -0.0900,  0.1700,  0.1700,  1.0000]])\n"
     ]
    }
   ],
   "source": [
    "Q = torch.block_diag(*[torch.ones([10, 1])] * 5)\n",
    "\n",
    "model = ImportanceWeightedEstimator(learning_rate = 5e-3,\n",
    "                                    device = \"cpu\",\n",
    "                                    log_interval = 100,\n",
    "                                    Q = Q,\n",
    "                                    input_size = n_items,\n",
    "                                    inference_net_sizes = [100],\n",
    "                                    latent_size = 5,\n",
    "                                    n_cats = [5] * n_items,\n",
    "                                    correlated_factors = [0, 1, 2, 3, 4],\n",
    "                                   )\n",
    "model.fit(data, missing_mask=missing_mask, iw_samples=5)\n",
    "\n",
    "print(\"\\n\", np.around(model.loadings, 2))\n",
    "print(\"\\n\", np.around(model.cov, 2))"
   ]
  },
  {
   "cell_type": "markdown",
   "id": "1c807774",
   "metadata": {},
   "source": [
    "We can implement a wider range of confirmatory IFA models using linear constraints encoded in a matrix *A* and a vector *b*. We implement the same model we just fitted using linear constraints below."
   ]
  },
  {
   "cell_type": "code",
   "execution_count": 5,
   "id": "61bd39ce",
   "metadata": {},
   "outputs": [
    {
     "name": "stdout",
     "output_type": "stream",
     "text": [
      "\n",
      "Fitting started\n",
      "Epoch =       0 Iter. =  19801   Current mean loss = 60.63   Intervals no change = 100\n",
      "Fitting ended in  95.08  seconds\n",
      "\n",
      " tensor([[1.8500, 0.0000, 0.0000, 0.0000, 0.0000],\n",
      "        [1.7300, 0.0000, 0.0000, 0.0000, 0.0000],\n",
      "        [1.8900, 0.0000, 0.0000, 0.0000, 0.0000],\n",
      "        [1.9900, 0.0000, 0.0000, 0.0000, 0.0000],\n",
      "        [2.3800, 0.0000, 0.0000, 0.0000, 0.0000],\n",
      "        [1.3700, 0.0000, 0.0000, 0.0000, 0.0000],\n",
      "        [2.2100, 0.0000, 0.0000, 0.0000, 0.0000],\n",
      "        [1.1300, 0.0000, 0.0000, 0.0000, 0.0000],\n",
      "        [1.4900, 0.0000, 0.0000, 0.0000, 0.0000],\n",
      "        [1.7600, 0.0000, 0.0000, 0.0000, 0.0000],\n",
      "        [0.0000, 1.7800, 0.0000, 0.0000, 0.0000],\n",
      "        [0.0000, 1.1100, 0.0000, 0.0000, 0.0000],\n",
      "        [0.0000, 1.4300, 0.0000, 0.0000, 0.0000],\n",
      "        [0.0000, 0.8200, 0.0000, 0.0000, 0.0000],\n",
      "        [0.0000, 1.2400, 0.0000, 0.0000, 0.0000],\n",
      "        [0.0000, 2.2100, 0.0000, 0.0000, 0.0000],\n",
      "        [0.0000, 2.2600, 0.0000, 0.0000, 0.0000],\n",
      "        [0.0000, 2.5700, 0.0000, 0.0000, 0.0000],\n",
      "        [0.0000, 1.8400, 0.0000, 0.0000, 0.0000],\n",
      "        [0.0000, 1.7000, 0.0000, 0.0000, 0.0000],\n",
      "        [0.0000, 0.0000, 1.5800, 0.0000, 0.0000],\n",
      "        [0.0000, 0.0000, 1.5000, 0.0000, 0.0000],\n",
      "        [0.0000, 0.0000, 0.6600, 0.0000, 0.0000],\n",
      "        [0.0000, 0.0000, 2.5800, 0.0000, 0.0000],\n",
      "        [0.0000, 0.0000, 1.8500, 0.0000, 0.0000],\n",
      "        [0.0000, 0.0000, 1.4200, 0.0000, 0.0000],\n",
      "        [0.0000, 0.0000, 1.8200, 0.0000, 0.0000],\n",
      "        [0.0000, 0.0000, 1.5200, 0.0000, 0.0000],\n",
      "        [0.0000, 0.0000, 2.1100, 0.0000, 0.0000],\n",
      "        [0.0000, 0.0000, 1.1000, 0.0000, 0.0000],\n",
      "        [0.0000, 0.0000, 0.0000, 1.6100, 0.0000],\n",
      "        [0.0000, 0.0000, 0.0000, 1.1700, 0.0000],\n",
      "        [0.0000, 0.0000, 0.0000, 0.8800, 0.0000],\n",
      "        [0.0000, 0.0000, 0.0000, 1.5000, 0.0000],\n",
      "        [0.0000, 0.0000, 0.0000, 1.4800, 0.0000],\n",
      "        [0.0000, 0.0000, 0.0000, 1.4800, 0.0000],\n",
      "        [0.0000, 0.0000, 0.0000, 1.3000, 0.0000],\n",
      "        [0.0000, 0.0000, 0.0000, 1.1800, 0.0000],\n",
      "        [0.0000, 0.0000, 0.0000, 1.4800, 0.0000],\n",
      "        [0.0000, 0.0000, 0.0000, 1.0300, 0.0000],\n",
      "        [0.0000, 0.0000, 0.0000, 0.0000, 1.1800],\n",
      "        [0.0000, 0.0000, 0.0000, 0.0000, 1.3500],\n",
      "        [0.0000, 0.0000, 0.0000, 0.0000, 1.3700],\n",
      "        [0.0000, 0.0000, 0.0000, 0.0000, 1.2000],\n",
      "        [0.0000, 0.0000, 0.0000, 0.0000, 1.7100],\n",
      "        [0.0000, 0.0000, 0.0000, 0.0000, 1.5300],\n",
      "        [0.0000, 0.0000, 0.0000, 0.0000, 1.0700],\n",
      "        [0.0000, 0.0000, 0.0000, 0.0000, 1.0300],\n",
      "        [0.0000, 0.0000, 0.0000, 0.0000, 0.8100],\n",
      "        [0.0000, 0.0000, 0.0000, 0.0000, 2.2300]])\n",
      "\n",
      " tensor([[ 1.0000, -0.2300,  0.4200,  0.1200,  0.2200],\n",
      "        [-0.2300,  1.0000, -0.0600, -0.2700, -0.1000],\n",
      "        [ 0.4200, -0.0600,  1.0000,  0.1900,  0.1700],\n",
      "        [ 0.1200, -0.2700,  0.1900,  1.0000,  0.1100],\n",
      "        [ 0.2200, -0.1000,  0.1700,  0.1100,  1.0000]])\n"
     ]
    }
   ],
   "source": [
    "constraint_ls = ([torch.eye(10), torch.zeros([n_items, n_items]),\n",
    "                  torch.eye(10), torch.zeros([n_items, n_items]),\n",
    "                  torch.eye(10), torch.zeros([n_items, n_items]),\n",
    "                  torch.eye(10), torch.zeros([n_items, n_items]),\n",
    "                  torch.eye(10)])\n",
    "A = torch.block_diag(*constraint_ls)\n",
    "b = torch.cat(([torch.ones([1]), torch.zeros([9 + n_items]),\n",
    "                torch.ones([1]), torch.zeros([9 + n_items]),\n",
    "                torch.ones([1]), torch.zeros([9 + n_items]),\n",
    "                torch.ones([1]), torch.zeros([9 + n_items]),\n",
    "                torch.ones([1]), torch.zeros([9])]), dim=0)\n",
    "\n",
    "model = ImportanceWeightedEstimator(input_size = n_items,\n",
    "                                    inference_net_sizes = [100],\n",
    "                                    latent_size = 5,\n",
    "                                    n_cats = [5] * n_items,\n",
    "                                    learning_rate = 5e-3,\n",
    "                                    A = A,\n",
    "                                    b = b,\n",
    "                                    device = \"cpu\",\n",
    "                                    log_interval = 100,\n",
    "                                    correlated_factors = [0, 1, 2, 3, 4],\n",
    "                                   )\n",
    "model.fit(data, missing_mask=missing_mask, iw_samples=5)\n",
    "\n",
    "print(\"\\n\", np.around(model.loadings, 2))\n",
    "print(\"\\n\", np.around(model.cov, 2))"
   ]
  }
 ],
 "metadata": {
  "kernelspec": {
   "display_name": "Python 3 (ipykernel)",
   "language": "python",
   "name": "python3"
  },
  "language_info": {
   "codemirror_mode": {
    "name": "ipython",
    "version": 3
   },
   "file_extension": ".py",
   "mimetype": "text/x-python",
   "name": "python",
   "nbconvert_exporter": "python",
   "pygments_lexer": "ipython3",
   "version": "3.9.7"
  }
 },
 "nbformat": 4,
 "nbformat_minor": 5
}
