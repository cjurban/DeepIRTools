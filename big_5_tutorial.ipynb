{
 "cells": [
  {
   "cell_type": "markdown",
   "id": "d905ca68",
   "metadata": {},
   "source": [
    "# A Big Big-Five Personality Factors Example"
   ]
  },
  {
   "cell_type": "markdown",
   "id": "68474fb7",
   "metadata": {},
   "source": [
    "We'll begin by downloading and pre-processing the data set, which consists of over 1 million people's responses to 50 Big 5 items (10 items/factor, 5 categories/item).\n",
    "\n",
    "After some basic pre-processing, we cut the data down to around 630K people."
   ]
  },
  {
   "cell_type": "code",
   "execution_count": 1,
   "id": "e3ab91f3",
   "metadata": {},
   "outputs": [
    {
     "name": "stdout",
     "output_type": "stream",
     "text": [
      "torch.Size([629984, 50])\n"
     ]
    }
   ],
   "source": [
    "import os\n",
    "import urllib.request\n",
    "import shutil\n",
    "import pandas as pd\n",
    "\n",
    "from utils import *\n",
    "from figures import *\n",
    "\n",
    "manual_seed(123) # set seed for reproducibility\n",
    "\n",
    "# Download data.\n",
    "filepath = \"./data/IPIP-FFM-data-8Nov2018/data-final.csv\"\n",
    "if not os.path.exists(filepath):\n",
    "    os.makedirs(os.path.dirname(\"./data/\"), exist_ok=True)\n",
    "    urllib.request.urlretrieve(\"https://openpsychometrics.org/_rawdata/IPIP-FFM-data-8Nov2018.zip\",\n",
    "                               \"./data/ipip-ffm.zip\")\n",
    "    shutil.unpack_archive(\"./data/ipip-ffm.zip\", \"./data/\")\n",
    "\n",
    "# Pre-processing.\n",
    "df = pd.read_csv(filepath, sep = \"\\t\", header = 0)\n",
    "df = df[df[\"IPC\"] == 1] # Drop multiple submissions from same IP address\n",
    "df.iloc[:, :100] = df.iloc[:, :100].dropna() # Drop NaNs\n",
    "df = df[df.iloc[:, 0:50].sum(1) > 0] # Drop all missing responses\n",
    "rc_items = [\"EXT2\", \"EXT4\", \"EXT6\", \"EXT8\", \"EXT10\", \"AGR1\", \"AGR3\", \"AGR5\", \"AGR7\",\n",
    "            \"CSN2\", \"CSN4\", \"CSN6\", \"CSN8\", \"EST2\", \"EST4\", \"OPN2\", \"OPN4\", \"OPN6\"]\n",
    "df[rc_items] = ((1 - df[rc_items] / 5) * 5 + 1).mask(lambda col: col == 6, 0) # Fix reverse-coded items\n",
    "Y = torch.from_numpy(df.iloc[:, :50].to_numpy()) - 1 # item responses\n",
    "T = torch.from_numpy(df.iloc[:, 50:100].to_numpy()) / 1000 # response times in seconds\n",
    "\n",
    "missing_mask = 1 * (Y != -1)\n",
    "Y[Y == -1] = 0\n",
    "T[T == 0] = 1e-7 # set zero response times (which indicate missingness) to a small value\n",
    "\n",
    "keeps = ((T < 0).sum(dim = 1) == 0) & ((T > 100).sum(dim = 1) == 0) # drop negative or too long response times\n",
    "Y, T, missing_mask = Y[keeps], T[keeps], missing_mask[keeps]\n",
    "\n",
    "print(Y.shape)\n",
    "\n",
    "n_items = Y.shape[1]"
   ]
  },
  {
   "cell_type": "markdown",
   "id": "5b9dc7dc",
   "metadata": {},
   "source": [
    "## Exploratory Item Factor Analysis"
   ]
  },
  {
   "cell_type": "markdown",
   "id": "d0d99911",
   "metadata": {},
   "source": [
    "We'll first conduct exploratory item factor analysis (IFA).\n",
    "\n",
    "A typical goal in this context is to determine the number of latent factors underlying the data. We can do this using a log-likelihood (LL) scree plot approach where we fit a number of models with different latent dimensions and estimate the LL on a held-out data set for each dimension. We then plot these LLs and pick the latent dimension corresponding to an \"elbow\" in the plot."
   ]
  },
  {
   "cell_type": "code",
   "execution_count": 2,
   "id": "2675d23f",
   "metadata": {},
   "outputs": [
    {
     "name": "stdout",
     "output_type": "stream",
     "text": [
      "\n",
      "Latent size =  3\n",
      "\n",
      "Fitting started\n",
      "Epoch =       0 Iter. =  18401   Current mean loss = 66.03   Intervals no change = 100\n",
      "Fitting ended in  66.75  seconds\n",
      "\n",
      "Computing approx. LL\n",
      "Approx. LL computed in 16.51 seconds\n",
      "\n",
      "Latent size =  4\n",
      "\n",
      "Fitting started\n",
      "Epoch =       0 Iter. =  17201   Current mean loss = 64.91   Intervals no change = 100\n",
      "Fitting ended in  62.81  seconds\n",
      "\n",
      "Computing approx. LL\n",
      "Approx. LL computed in 17.18 seconds\n",
      "\n",
      "Latent size =  5\n",
      "\n",
      "Fitting started\n",
      "Epoch =       0 Iter. =  16201   Current mean loss = 63.90   Intervals no change = 100\n",
      "Fitting ended in  60.6  seconds\n",
      "\n",
      "Computing approx. LL\n",
      "Approx. LL computed in 20.06 seconds\n",
      "\n",
      "Latent size =  6\n",
      "\n",
      "Fitting started\n",
      "Epoch =       1 Iter. =  21501   Current mean loss = 63.48   Intervals no change = 100\n",
      "Fitting ended in  76.18  seconds\n",
      "\n",
      "Computing approx. LL\n",
      "Approx. LL computed in 20.53 seconds\n",
      "\n",
      "Latent size =  7\n",
      "\n",
      "Fitting started\n",
      "Epoch =       1 Iter. =  23801   Current mean loss = 63.40   Intervals no change = 100\n",
      "Fitting ended in  87.35  seconds\n",
      "\n",
      "Computing approx. LL\n",
      "Approx. LL computed in 20.58 seconds\n",
      "\n",
      "Latent size =  8\n",
      "\n",
      "Fitting started\n",
      "Epoch =       0 Iter. =  15001   Current mean loss = 62.79   Intervals no change = 100\n",
      "Fitting ended in  55.2  seconds\n",
      "\n",
      "Computing approx. LL\n",
      "Approx. LL computed in 20.62 seconds\n"
     ]
    },
    {
     "name": "stderr",
     "output_type": "stream",
     "text": [
      "/Users/gateslab/school/code/DeepIRTools/figures.py:90: UserWarning: Matplotlib is currently using module://matplotlib_inline.backend_inline, which is a non-GUI backend, so cannot show the figure.\n",
      "  fig.show()\n"
     ]
    },
    {
     "data": {
      "image/png": "[encoded data removed]",
      "text/plain": [
       "<Figure size 360x360 with 1 Axes>"
      ]
     },
     "metadata": {
      "needs_background": "light"
     },
     "output_type": "display_data"
    }
   ],
   "source": [
    "# This will take a few minutes to run.\n",
    "ll_list = screeplot(latent_sizes = [int(i + 1) for i in range(2, 8)],\n",
    "                    data = Y,\n",
    "                    model_type = \"grm\",\n",
    "                    test_size = 0.01,\n",
    "                    inference_net_sizes_list = [[n_items, 100]] * 10,\n",
    "                    learning_rates = [5e-3] * 10,\n",
    "                    missing_mask = missing_mask,\n",
    "                    device = \"cpu\",                  \n",
    "                    iw_samples_fit = 5,\n",
    "                    iw_samples_ll = 500,\n",
    "                    n_cats = [5] * n_items,\n",
    "                   )"
   ]
  },
  {
   "cell_type": "markdown",
   "id": "b6a8a0ec",
   "metadata": {},
   "source": [
    "Another goal in the exploratory context is to uncover the factor loadings structure.\n",
    "\n",
    "Since we found an \"elbow\" at 5 latent factors, we fit a 5-factor IFA model with unconstrained loadings and standard normal factors. We then use Geomin oblique rotation from the FactorAnalyzer package to produce rotated loadings, which have a clear simple structure."
   ]
  },
  {
   "cell_type": "code",
   "execution_count": 3,
   "id": "b364f3dc",
   "metadata": {},
   "outputs": [
    {
     "name": "stdout",
     "output_type": "stream",
     "text": [
      "\n",
      "Fitting started\n",
      "Epoch =       0 Iter. =  13801   Current mean loss = 63.73   Intervals no change = 100\n",
      "Fitting ended in  51.88  seconds\n"
     ]
    },
    {
     "data": {
      "image/png": "[encoded data removed]",
      "text/plain": [
       "<Figure size 432x288 with 2 Axes>"
      ]
     },
     "metadata": {
      "needs_background": "light"
     },
     "output_type": "display_data"
    }
   ],
   "source": [
    "from factor_analyzer import Rotator\n",
    "\n",
    "model = ImportanceWeightedEstimator(learning_rate = 5e-3,\n",
    "                                    device = \"cpu\",\n",
    "                                    model_type = \"grm\",\n",
    "                                    log_interval = 100,\n",
    "                                    inference_net_sizes = [n_items, 100],\n",
    "                                    latent_size = 5,\n",
    "                                    n_cats = [5] * n_items,\n",
    "                                   )\n",
    "model.fit(Y, missing_mask=missing_mask, iw_samples=5)\n",
    "\n",
    "rotator = Rotator(method = \"geomin_obl\")\n",
    "rot_loadings = rotator.fit_transform(model.loadings)\n",
    "loadings_heatmap(rot_loadings)"
   ]
  },
  {
   "cell_type": "markdown",
   "id": "ce62f61b",
   "metadata": {},
   "source": [
    "## Confirmatory Item Factor Analysis"
   ]
  },
  {
   "cell_type": "markdown",
   "id": "a4b0569d",
   "metadata": {},
   "source": [
    "In the confirmatory IFA setting, researchers have *a priori* theories about the loadings structure which they want to test for goodness-of-fit.\n",
    "\n",
    "There are several ways to implement these constraints. One is to use a binary matrix *Q* whose elements are zero if the corresponding loading is set to zero and one otherwise.\n",
    "\n",
    "We demonstrate this by imposing simple stucture on the loadings matrix using *Q* below. We also estimate the correlations between the latent factors."
   ]
  },
  {
   "cell_type": "code",
   "execution_count": 4,
   "id": "de964508",
   "metadata": {},
   "outputs": [
    {
     "name": "stdout",
     "output_type": "stream",
     "text": [
      "\n",
      "Fitting started\n",
      "Epoch =       0 Iter. =  14301   Current mean loss = 64.88   Intervals no change = 100\n",
      "Fitting ended in  77.94  seconds\n",
      "\n",
      "Loadings\n",
      "\n",
      " [[1.88 0.   0.   0.   0.  ]\n",
      " [1.98 0.   0.   0.   0.  ]\n",
      " [1.91 0.   0.   0.   0.  ]\n",
      " [2.27 0.   0.   0.   0.  ]\n",
      " [2.35 0.   0.   0.   0.  ]\n",
      " [1.45 0.   0.   0.   0.  ]\n",
      " [2.23 0.   0.   0.   0.  ]\n",
      " [1.34 0.   0.   0.   0.  ]\n",
      " [1.46 0.   0.   0.   0.  ]\n",
      " [2.11 0.   0.   0.   0.  ]\n",
      " [0.   1.92 0.   0.   0.  ]\n",
      " [0.   1.34 0.   0.   0.  ]\n",
      " [0.   1.51 0.   0.   0.  ]\n",
      " [0.   1.04 0.   0.   0.  ]\n",
      " [0.   1.2  0.   0.   0.  ]\n",
      " [0.   2.2  0.   0.   0.  ]\n",
      " [0.   2.22 0.   0.   0.  ]\n",
      " [0.   2.48 0.   0.   0.  ]\n",
      " [0.   1.89 0.   0.   0.  ]\n",
      " [0.   1.75 0.   0.   0.  ]\n",
      " [0.   0.   1.29 0.   0.  ]\n",
      " [0.   0.   1.54 0.   0.  ]\n",
      " [0.   0.   0.74 0.   0.  ]\n",
      " [0.   0.   2.59 0.   0.  ]\n",
      " [0.   0.   1.92 0.   0.  ]\n",
      " [0.   0.   1.38 0.   0.  ]\n",
      " [0.   0.   1.9  0.   0.  ]\n",
      " [0.   0.   1.54 0.   0.  ]\n",
      " [0.   0.   2.08 0.   0.  ]\n",
      " [0.   0.   1.01 0.   0.  ]\n",
      " [0.   0.   0.   1.59 0.  ]\n",
      " [0.   0.   0.   1.37 0.  ]\n",
      " [0.   0.   0.   0.76 0.  ]\n",
      " [0.   0.   0.   1.66 0.  ]\n",
      " [0.   0.   0.   1.58 0.  ]\n",
      " [0.   0.   0.   1.74 0.  ]\n",
      " [0.   0.   0.   1.18 0.  ]\n",
      " [0.   0.   0.   1.29 0.  ]\n",
      " [0.   0.   0.   1.46 0.  ]\n",
      " [0.   0.   0.   1.01 0.  ]\n",
      " [0.   0.   0.   0.   1.21]\n",
      " [0.   0.   0.   0.   1.47]\n",
      " [0.   0.   0.   0.   1.36]\n",
      " [0.   0.   0.   0.   1.28]\n",
      " [0.   0.   0.   0.   1.69]\n",
      " [0.   0.   0.   0.   1.45]\n",
      " [0.   0.   0.   0.   1.03]\n",
      " [0.   0.   0.   0.   1.05]\n",
      " [0.   0.   0.   0.   0.78]\n",
      " [0.   0.   0.   0.   2.23]]\n",
      "\n",
      "Factor correlations\n",
      "\n",
      " [[ 1.   -0.27  0.36  0.07  0.21]\n",
      " [-0.27  1.   -0.04 -0.28 -0.13]\n",
      " [ 0.36 -0.04  1.    0.15  0.16]\n",
      " [ 0.07 -0.28  0.15  1.    0.07]\n",
      " [ 0.21 -0.13  0.16  0.07  1.  ]]\n"
     ]
    }
   ],
   "source": [
    "Q = torch.block_diag(*[torch.ones([10, 1])] * 5)\n",
    "\n",
    "model = ImportanceWeightedEstimator(learning_rate = 5e-3,\n",
    "                                    device = \"cpu\",\n",
    "                                    model_type = \"grm\",\n",
    "                                    log_interval = 100,\n",
    "                                    Q = Q,\n",
    "                                    inference_net_sizes = [n_items, 100],\n",
    "                                    latent_size = 5,\n",
    "                                    n_cats = [5] * n_items,\n",
    "                                    correlated_factors = [0, 1, 2, 3, 4],\n",
    "                                   )\n",
    "model.fit(Y, missing_mask=missing_mask, iw_samples=5)\n",
    "\n",
    "print(\"\\nLoadings\\n\\n\", np.around(model.loadings.numpy(), 2))\n",
    "print(\"\\nFactor correlations\\n\\n\", np.around(model.cov.numpy(), 2))"
   ]
  },
  {
   "cell_type": "markdown",
   "id": "1c807774",
   "metadata": {},
   "source": [
    "We can implement a wider range of confirmatory IFA models using linear constraints encoded in a matrix *A* and a vector *b*. We implement a similar model to the one fitted above, except the first loading on each factor is constrained to 1 and the factor variances are freely estimated."
   ]
  },
  {
   "cell_type": "code",
   "execution_count": 5,
   "id": "61bd39ce",
   "metadata": {},
   "outputs": [
    {
     "name": "stdout",
     "output_type": "stream",
     "text": [
      "\n",
      "Fitting started\n",
      "Epoch =       0 Iter. =  12901   Current mean loss = 65.12   Intervals no change = 100\n",
      "Fitting ended in  75.5  seconds\n",
      "\n",
      "Loadings\n",
      "\n",
      " [[1.   0.   0.   0.   0.  ]\n",
      " [1.07 0.   0.   0.   0.  ]\n",
      " [1.05 0.   0.   0.   0.  ]\n",
      " [1.24 0.   0.   0.   0.  ]\n",
      " [1.31 0.   0.   0.   0.  ]\n",
      " [0.79 0.   0.   0.   0.  ]\n",
      " [1.22 0.   0.   0.   0.  ]\n",
      " [0.77 0.   0.   0.   0.  ]\n",
      " [0.85 0.   0.   0.   0.  ]\n",
      " [1.16 0.   0.   0.   0.  ]\n",
      " [0.   1.   0.   0.   0.  ]\n",
      " [0.   0.68 0.   0.   0.  ]\n",
      " [0.   0.74 0.   0.   0.  ]\n",
      " [0.   0.5  0.   0.   0.  ]\n",
      " [0.   0.63 0.   0.   0.  ]\n",
      " [0.   1.19 0.   0.   0.  ]\n",
      " [0.   1.17 0.   0.   0.  ]\n",
      " [0.   1.3  0.   0.   0.  ]\n",
      " [0.   0.99 0.   0.   0.  ]\n",
      " [0.   0.87 0.   0.   0.  ]\n",
      " [0.   0.   1.   0.   0.  ]\n",
      " [0.   0.   1.2  0.   0.  ]\n",
      " [0.   0.   0.55 0.   0.  ]\n",
      " [0.   0.   1.98 0.   0.  ]\n",
      " [0.   0.   1.48 0.   0.  ]\n",
      " [0.   0.   1.01 0.   0.  ]\n",
      " [0.   0.   1.48 0.   0.  ]\n",
      " [0.   0.   1.11 0.   0.  ]\n",
      " [0.   0.   1.6  0.   0.  ]\n",
      " [0.   0.   0.81 0.   0.  ]\n",
      " [0.   0.   0.   1.   0.  ]\n",
      " [0.   0.   0.   0.91 0.  ]\n",
      " [0.   0.   0.   0.52 0.  ]\n",
      " [0.   0.   0.   1.03 0.  ]\n",
      " [0.   0.   0.   1.01 0.  ]\n",
      " [0.   0.   0.   1.1  0.  ]\n",
      " [0.   0.   0.   0.76 0.  ]\n",
      " [0.   0.   0.   0.79 0.  ]\n",
      " [0.   0.   0.   0.89 0.  ]\n",
      " [0.   0.   0.   0.63 0.  ]\n",
      " [0.   0.   0.   0.   1.  ]\n",
      " [0.   0.   0.   0.   1.2 ]\n",
      " [0.   0.   0.   0.   1.14]\n",
      " [0.   0.   0.   0.   1.06]\n",
      " [0.   0.   0.   0.   1.33]\n",
      " [0.   0.   0.   0.   1.24]\n",
      " [0.   0.   0.   0.   0.93]\n",
      " [0.   0.   0.   0.   0.91]\n",
      " [0.   0.   0.   0.   0.61]\n",
      " [0.   0.   0.   0.   1.79]]\n",
      "\n",
      "Factor covariances\n",
      "\n",
      " [[ 3.5  -0.84  0.98  0.23  0.51]\n",
      " [-0.84  3.84 -0.14 -0.86 -0.23]\n",
      " [ 0.98 -0.14  1.83  0.33  0.26]\n",
      " [ 0.23 -0.86  0.33  2.45  0.21]\n",
      " [ 0.51 -0.23  0.26  0.21  1.52]]\n"
     ]
    }
   ],
   "source": [
    "constraint_ls = ([torch.zeros(1), torch.eye(9), torch.zeros([n_items, n_items]),\n",
    "                  torch.zeros(1), torch.eye(9), torch.zeros([n_items, n_items]),\n",
    "                  torch.zeros(1), torch.eye(9), torch.zeros([n_items, n_items]),\n",
    "                  torch.zeros(1), torch.eye(9), torch.zeros([n_items, n_items]),\n",
    "                  torch.zeros(1), torch.eye(9)])\n",
    "A = torch.block_diag(*constraint_ls)\n",
    "b = torch.cat(([torch.ones(1), torch.zeros([9 + n_items]),\n",
    "                torch.ones(1), torch.zeros([9 + n_items]),\n",
    "                torch.ones(1), torch.zeros([9 + n_items]),\n",
    "                torch.ones(1), torch.zeros([9 + n_items]),\n",
    "                torch.ones(1), torch.zeros([9])]), dim=0)\n",
    "\n",
    "model = ImportanceWeightedEstimator(learning_rate = 5e-3,\n",
    "                                    device = \"cpu\",\n",
    "                                    model_type = \"grm\",\n",
    "                                    log_interval = 100,\n",
    "                                    A = A,\n",
    "                                    b = b,\n",
    "                                    inference_net_sizes = [n_items, 100],\n",
    "                                    latent_size = 5,\n",
    "                                    n_cats = [5] * n_items,\n",
    "                                    fixed_variances = False,\n",
    "                                    correlated_factors = [0, 1, 2, 3, 4],\n",
    "                                   )\n",
    "model.fit(Y, missing_mask=missing_mask, iw_samples=5)\n",
    "\n",
    "print(\"\\nLoadings\\n\\n\", np.around(model.loadings.numpy(), 2))\n",
    "print(\"\\nFactor covariances\\n\\n\", np.around(model.cov.numpy(), 2))"
   ]
  },
  {
   "cell_type": "markdown",
   "id": "828c2169",
   "metadata": {},
   "source": [
    "Next, let's fit the generalized partial credit model to the Big Five data using the *Q* matrix approach."
   ]
  },
  {
   "cell_type": "code",
   "execution_count": 6,
   "id": "1c5a17d0",
   "metadata": {},
   "outputs": [
    {
     "name": "stdout",
     "output_type": "stream",
     "text": [
      "\n",
      "Fitting started\n",
      "Epoch =       1 Iter. =  35601   Current mean loss = 65.27   Intervals no change = 100\n",
      "Fitting ended in  201.65  seconds\n",
      "\n",
      "Loadings\n",
      "\n",
      " [[1.05 0.   0.   0.   0.  ]\n",
      " [1.13 0.   0.   0.   0.  ]\n",
      " [1.19 0.   0.   0.   0.  ]\n",
      " [1.45 0.   0.   0.   0.  ]\n",
      " [1.58 0.   0.   0.   0.  ]\n",
      " [0.78 0.   0.   0.   0.  ]\n",
      " [1.22 0.   0.   0.   0.  ]\n",
      " [0.66 0.   0.   0.   0.  ]\n",
      " [0.76 0.   0.   0.   0.  ]\n",
      " [1.23 0.   0.   0.   0.  ]\n",
      " [0.   1.09 0.   0.   0.  ]\n",
      " [0.   0.69 0.   0.   0.  ]\n",
      " [0.   0.85 0.   0.   0.  ]\n",
      " [0.   0.46 0.   0.   0.  ]\n",
      " [0.   0.55 0.   0.   0.  ]\n",
      " [0.   1.28 0.   0.   0.  ]\n",
      " [0.   1.33 0.   0.   0.  ]\n",
      " [0.   1.59 0.   0.   0.  ]\n",
      " [0.   1.01 0.   0.   0.  ]\n",
      " [0.   0.92 0.   0.   0.  ]\n",
      " [0.   0.   0.58 0.   0.  ]\n",
      " [0.   0.   0.91 0.   0.  ]\n",
      " [0.   0.   0.32 0.   0.  ]\n",
      " [0.   0.   1.91 0.   0.  ]\n",
      " [0.   0.   1.22 0.   0.  ]\n",
      " [0.   0.   0.76 0.   0.  ]\n",
      " [0.   0.   1.22 0.   0.  ]\n",
      " [0.   0.   0.89 0.   0.  ]\n",
      " [0.   0.   1.34 0.   0.  ]\n",
      " [0.   0.   0.58 0.   0.  ]\n",
      " [0.   0.   0.   0.93 0.  ]\n",
      " [0.   0.   0.   0.67 0.  ]\n",
      " [0.   0.   0.   0.45 0.  ]\n",
      " [0.   0.   0.   0.91 0.  ]\n",
      " [0.   0.   0.   0.88 0.  ]\n",
      " [0.   0.   0.   0.85 0.  ]\n",
      " [0.   0.   0.   0.69 0.  ]\n",
      " [0.   0.   0.   0.69 0.  ]\n",
      " [0.   0.   0.   0.77 0.  ]\n",
      " [0.   0.   0.   0.5  0.  ]\n",
      " [0.   0.   0.   0.   0.72]\n",
      " [0.   0.   0.   0.   0.83]\n",
      " [0.   0.   0.   0.   0.8 ]\n",
      " [0.   0.   0.   0.   0.7 ]\n",
      " [0.   0.   0.   0.   1.12]\n",
      " [0.   0.   0.   0.   0.82]\n",
      " [0.   0.   0.   0.   0.65]\n",
      " [0.   0.   0.   0.   0.56]\n",
      " [0.   0.   0.   0.   0.46]\n",
      " [0.   0.   0.   0.   1.47]]\n",
      "\n",
      "Factor correlations\n",
      "\n",
      " [[ 1.   -0.23  0.39  0.12  0.19]\n",
      " [-0.23  1.    0.02 -0.31 -0.07]\n",
      " [ 0.39  0.02  1.    0.13  0.15]\n",
      " [ 0.12 -0.31  0.13  1.    0.02]\n",
      " [ 0.19 -0.07  0.15  0.02  1.  ]]\n"
     ]
    }
   ],
   "source": [
    "Q = torch.block_diag(*[torch.ones([10, 1])] * 5)\n",
    "\n",
    "model = ImportanceWeightedEstimator(learning_rate = 5e-3,\n",
    "                                    device = \"cpu\",\n",
    "                                    model_type = \"gpcm\",\n",
    "                                    log_interval = 100,\n",
    "                                    Q = Q,\n",
    "                                    inference_net_sizes = [n_items, 100],\n",
    "                                    latent_size = 5,\n",
    "                                    n_cats = [5] * n_items,\n",
    "                                    correlated_factors = [0, 1, 2, 3, 4],\n",
    "                                   )\n",
    "model.fit(Y, missing_mask=missing_mask, iw_samples=5)\n",
    "\n",
    "print(\"\\nLoadings\\n\\n\", np.around(model.loadings.numpy(), 2))\n",
    "print(\"\\nFactor correlations\\n\\n\", np.around(model.cov.numpy(), 2))"
   ]
  },
  {
   "cell_type": "markdown",
   "id": "8dd33a32",
   "metadata": {},
   "source": [
    "We can also fit a classic linear factor model with the *Q* matrix approach."
   ]
  },
  {
   "cell_type": "code",
   "execution_count": 7,
   "id": "a53b245e",
   "metadata": {},
   "outputs": [
    {
     "name": "stdout",
     "output_type": "stream",
     "text": [
      "\n",
      "Fitting started\n",
      "Epoch =       0 Iter. =  17701   Current mean loss = 71.99   Intervals no change = 100\n",
      "Fitting ended in  76.48  seconds\n",
      "\n",
      "Loadings\n",
      "\n",
      " [[0.85 0.   0.   0.   0.  ]\n",
      " [0.9  0.   0.   0.   0.  ]\n",
      " [0.83 0.   0.   0.   0.  ]\n",
      " [0.91 0.   0.   0.   0.  ]\n",
      " [0.95 0.   0.   0.   0.  ]\n",
      " [0.69 0.   0.   0.   0.  ]\n",
      " [1.03 0.   0.   0.   0.  ]\n",
      " [0.69 0.   0.   0.   0.  ]\n",
      " [0.82 0.   0.   0.   0.  ]\n",
      " [0.91 0.   0.   0.   0.  ]\n",
      " [0.   0.9  0.   0.   0.  ]\n",
      " [0.   0.67 0.   0.   0.  ]\n",
      " [0.   0.69 0.   0.   0.  ]\n",
      " [0.   0.52 0.   0.   0.  ]\n",
      " [0.   0.62 0.   0.   0.  ]\n",
      " [0.   0.95 0.   0.   0.  ]\n",
      " [0.   0.97 0.   0.   0.  ]\n",
      " [0.   1.05 0.   0.   0.  ]\n",
      " [0.   0.87 0.   0.   0.  ]\n",
      " [0.   0.87 0.   0.   0.  ]\n",
      " [0.   0.   0.66 0.   0.  ]\n",
      " [0.   0.   0.67 0.   0.  ]\n",
      " [0.   0.   0.46 0.   0.  ]\n",
      " [0.   0.   0.85 0.   0.  ]\n",
      " [0.   0.   0.8  0.   0.  ]\n",
      " [0.   0.   0.72 0.   0.  ]\n",
      " [0.   0.   0.78 0.   0.  ]\n",
      " [0.   0.   0.62 0.   0.  ]\n",
      " [0.   0.   0.8  0.   0.  ]\n",
      " [0.   0.   0.47 0.   0.  ]\n",
      " [0.   0.   0.   0.73 0.  ]\n",
      " [0.   0.   0.   0.79 0.  ]\n",
      " [0.   0.   0.   0.38 0.  ]\n",
      " [0.   0.   0.   0.79 0.  ]\n",
      " [0.   0.   0.   0.78 0.  ]\n",
      " [0.   0.   0.   0.93 0.  ]\n",
      " [0.   0.   0.   0.55 0.  ]\n",
      " [0.   0.   0.   0.61 0.  ]\n",
      " [0.   0.   0.   0.74 0.  ]\n",
      " [0.   0.   0.   0.44 0.  ]\n",
      " [0.   0.   0.   0.   0.57]\n",
      " [0.   0.   0.   0.   0.63]\n",
      " [0.   0.   0.   0.   0.56]\n",
      " [0.   0.   0.   0.   0.56]\n",
      " [0.   0.   0.   0.   0.61]\n",
      " [0.   0.   0.   0.   0.6 ]\n",
      " [0.   0.   0.   0.   0.43]\n",
      " [0.   0.   0.   0.   0.59]\n",
      " [0.   0.   0.   0.   0.34]\n",
      " [0.   0.   0.   0.   0.72]]\n",
      "\n",
      "Factor correlations\n",
      "\n",
      " [[ 1.   -0.22  0.37  0.11  0.24]\n",
      " [-0.22  1.    0.03 -0.3  -0.1 ]\n",
      " [ 0.37  0.03  1.    0.12  0.15]\n",
      " [ 0.11 -0.3   0.12  1.    0.1 ]\n",
      " [ 0.24 -0.1   0.15  0.1   1.  ]]\n"
     ]
    }
   ],
   "source": [
    "Q = torch.block_diag(*[torch.ones([10, 1])] * 5)\n",
    "\n",
    "model = ImportanceWeightedEstimator(learning_rate = 5e-3,\n",
    "                                    device = \"cpu\",\n",
    "                                    model_type = \"normal\",\n",
    "                                    log_interval = 100,\n",
    "                                    Q = Q,\n",
    "                                    inference_net_sizes = [n_items, 100],\n",
    "                                    latent_size = 5,\n",
    "                                    n_items = n_items,\n",
    "                                    correlated_factors = [0, 1, 2, 3, 4],\n",
    "                                   )\n",
    "model.fit(Y, missing_mask=missing_mask, iw_samples=5)\n",
    "\n",
    "print(\"\\nLoadings\\n\\n\", np.around(model.loadings.numpy(), 2))\n",
    "print(\"\\nFactor correlations\\n\\n\", np.around(model.cov.numpy(), 2))"
   ]
  },
  {
   "cell_type": "markdown",
   "id": "f93a5db7",
   "metadata": {},
   "source": [
    "It's sometimes of interest to model response times (which are strictly positive) using a log-normal measurement model. We assume that a single standard normally distributed \"speed\" latent variable gives rise to the response times. In this setting, the intercepts and residual variances are of interest; loadings are typically constrained to one.\n",
    "\n",
    "It's worth noting that fitting can be numerically unstable when the response times are too large. To improve stability, we've dropped individuals who took more than 100 seconds to respond to any questions."
   ]
  },
  {
   "cell_type": "code",
   "execution_count": 8,
   "id": "87cfba96",
   "metadata": {},
   "outputs": [
    {
     "name": "stdout",
     "output_type": "stream",
     "text": [
      "\n",
      "Fitting started\n",
      "Epoch =       1 Iter. =  21901   Current mean loss = 137.95   Intervals no change = 100\n",
      "Fitting ended in  53.63  seconds\n",
      "\n",
      "Intercepts\n",
      "\n",
      " [1.72 0.92 0.97 0.93 0.76 0.84 1.11 0.96 0.98 0.85 0.85 0.91 0.75 0.95\n",
      " 0.95 0.78 0.84 0.79 0.73 0.66 1.17 0.81 0.88 0.84 1.09 0.69 1.   0.99\n",
      " 0.86 0.91 0.86 1.12 0.86 0.9  0.96 1.12 0.75 1.11 0.75 1.06 0.74 1.14\n",
      " 0.69 1.01 0.72 0.87 0.82 0.78 0.86 0.5 ]\n",
      "\n",
      "Residual variances\n",
      "\n",
      " [1.25 1.26 1.14 1.17 1.49 1.02 1.24 1.01 1.1  1.03 1.46 1.57 1.04 1.6\n",
      " 1.03 1.56 1.02 1.15 1.05 1.19 1.28 1.59 1.01 1.25 1.08 1.51 1.03 1.31\n",
      " 0.99 1.25 1.85 1.26 1.14 1.15 1.26 1.06 1.14 1.35 1.2  1.38 1.56 1.17\n",
      " 1.32 1.12 1.22 1.26 1.29 1.23 1.17 1.13]\n"
     ]
    }
   ],
   "source": [
    "A = torch.zeros([n_items, n_items])\n",
    "b = torch.ones(n_items)\n",
    "\n",
    "model = ImportanceWeightedEstimator(learning_rate = 1e-3,\n",
    "                                    device = \"cpu\",\n",
    "                                    model_type = \"lognormal\",\n",
    "                                    log_interval = 100,\n",
    "                                    A = A,\n",
    "                                    b = b,\n",
    "                                    inference_net_sizes = [n_items, 100],\n",
    "                                    latent_size = 1,\n",
    "                                    n_items = n_items,\n",
    "                                   )\n",
    "model.fit(T, missing_mask=missing_mask, iw_samples=5)\n",
    "\n",
    "print(\"\\nIntercepts\\n\\n\", np.around(model.intercepts.numpy(), 2))\n",
    "print(\"\\nResidual variances\\n\\n\", np.around(model.residual_variances.numpy(), 2))"
   ]
  }
 ],
 "metadata": {
  "kernelspec": {
   "display_name": "Python 3 (ipykernel)",
   "language": "python",
   "name": "python3"
  },
  "language_info": {
   "codemirror_mode": {
    "name": "ipython",
    "version": 3
   },
   "file_extension": ".py",
   "mimetype": "text/x-python",
   "name": "python",
   "nbconvert_exporter": "python",
   "pygments_lexer": "ipython3",
   "version": "3.9.7"
  }
 },
 "nbformat": 4,
 "nbformat_minor": 5
}
