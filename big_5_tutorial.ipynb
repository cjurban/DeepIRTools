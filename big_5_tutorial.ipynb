{
 "cells": [
  {
   "cell_type": "markdown",
   "id": "d905ca68",
   "metadata": {},
   "source": [
    "# A Big Big-Five Personality Factors Example"
   ]
  },
  {
   "cell_type": "markdown",
   "id": "bbf30d51",
   "metadata": {},
   "source": [
    "We'll begin by downloading and pre-processing the data set, which consists of over 1 million people's responses to 50 Big 5 items (10 items/factor, 5 categories/item).\n",
    "\n",
    "After some basic pre-processing, we cut the data down to around 630K people."
   ]
  },
  {
   "cell_type": "code",
   "execution_count": 1,
   "id": "e3ab91f3",
   "metadata": {},
   "outputs": [
    {
     "name": "stdout",
     "output_type": "stream",
     "text": [
      "torch.Size([629984, 50])\n"
     ]
    }
   ],
   "source": [
    "import os\n",
    "import urllib.request\n",
    "import shutil\n",
    "import pandas as pd\n",
    "\n",
    "from utils import *\n",
    "from figures import *\n",
    "\n",
    "# Download data.\n",
    "filepath = \"./data/IPIP-FFM-data-8Nov2018/data-final.csv\"\n",
    "if not os.path.exists(filepath):\n",
    "    os.makedirs(os.path.dirname(\"./data/\"), exist_ok=True)\n",
    "    urllib.request.urlretrieve(\"https://openpsychometrics.org/_rawdata/IPIP-FFM-data-8Nov2018.zip\",\n",
    "                               \"./data/ipip-ffm.zip\")\n",
    "    shutil.unpack_archive(\"./data/ipip-ffm.zip\", \"./data/\")\n",
    "\n",
    "# Pre-processing.\n",
    "df = pd.read_csv(filepath, sep = \"\\t\", header = 0)\n",
    "df = df[df[\"IPC\"] == 1] # Drop multiple submissions from same IP address\n",
    "df.iloc[:, :100] = df.iloc[:, :100].dropna() # Drop NaNs\n",
    "df = df[df.iloc[:, 0:50].sum(1) > 0] # Drop all missing responses\n",
    "rc_items = [\"EXT2\", \"EXT4\", \"EXT6\", \"EXT8\", \"EXT10\", \"AGR1\", \"AGR3\", \"AGR5\", \"AGR7\",\n",
    "            \"CSN2\", \"CSN4\", \"CSN6\", \"CSN8\", \"EST2\", \"EST4\", \"OPN2\", \"OPN4\", \"OPN6\"]\n",
    "df[rc_items] = ((1 - df[rc_items] / 5) * 5 + 1).mask(lambda col: col == 6, 0) # Fix reverse-coded items\n",
    "Y = torch.from_numpy(df.iloc[:, :50].to_numpy()) - 1 # item responses\n",
    "T = torch.from_numpy(df.iloc[:, 50:100].to_numpy()) / 1000 # response times in seconds\n",
    "\n",
    "missing_mask = 1 * (Y != -1)\n",
    "Y[Y == -1] = 0\n",
    "T[T == 0] = 1e-7 # set zero response times to a small value\n",
    "\n",
    "keeps = ((T < 0).sum(dim = 1) == 0) & ((T > 100).sum(dim = 1) == 0) # drop negative or too long response times\n",
    "Y, T, missing_mask = Y[keeps], T[keeps], missing_mask[keeps]\n",
    "\n",
    "print(Y.shape)\n",
    "\n",
    "n_items = Y.shape[1]"
   ]
  },
  {
   "cell_type": "markdown",
   "id": "990a9bc2",
   "metadata": {},
   "source": [
    "## Exploratory Item Factor Analysis"
   ]
  },
  {
   "cell_type": "markdown",
   "id": "c6b32727",
   "metadata": {},
   "source": [
    "We'll first conduct exploratory item factor analysis (IFA).\n",
    "\n",
    "A typical goal in this context is to determine the number of latent factors underlying the data. We can do this using a log-likelihood (LL) scree plot approach where we fit a number of models with different latent dimensions and estimate the LL on a held-out data set for each dimension. We then plot these LLs and pick the latent dimension corresponding to an \"elbow\" in the plot."
   ]
  },
  {
   "cell_type": "code",
   "execution_count": 2,
   "id": "f7c5afcc",
   "metadata": {},
   "outputs": [
    {
     "name": "stdout",
     "output_type": "stream",
     "text": [
      "\n",
      "Latent size =  3\n",
      "\n",
      "Fitting started\n",
      "Epoch =       1 Iter. =  20701   Current mean loss = 66.36   Intervals no change = 100\n",
      "Fitting ended in  71.58  seconds\n",
      "\n",
      "Computing approx. LL\n",
      "Approx. LL computed in 15.78 seconds\n",
      "\n",
      "Latent size =  4\n",
      "\n",
      "Fitting started\n",
      "Epoch =       0 Iter. =  17401   Current mean loss = 64.92   Intervals no change = 100\n",
      "Fitting ended in  58.7  seconds\n",
      "\n",
      "Computing approx. LL\n",
      "Approx. LL computed in 13.34 seconds\n",
      "\n",
      "Latent size =  5\n",
      "\n",
      "Fitting started\n",
      "Epoch =       1 Iter. =  22301   Current mean loss = 63.84   Intervals no change = 100\n",
      "Fitting ended in  68.74  seconds\n",
      "\n",
      "Computing approx. LL\n",
      "Approx. LL computed in 16.25 seconds\n",
      "\n",
      "Latent size =  6\n",
      "\n",
      "Fitting started\n",
      "Epoch =       0 Iter. =  14001   Current mean loss = 63.57   Intervals no change = 100\n",
      "Fitting ended in  51.56  seconds\n",
      "\n",
      "Computing approx. LL\n",
      "Approx. LL computed in 16.55 seconds\n",
      "\n",
      "Latent size =  7\n",
      "\n",
      "Fitting started\n",
      "Epoch =       1 Iter. =  31001   Current mean loss = 63.31   Intervals no change = 100\n",
      "Fitting ended in  94.41  seconds\n",
      "\n",
      "Computing approx. LL\n",
      "Approx. LL computed in 16.62 seconds\n",
      "\n",
      "Latent size =  8\n",
      "\n",
      "Fitting started\n",
      "Epoch =       1 Iter. =  20701   Current mean loss = 63.08   Intervals no change = 100\n",
      "Fitting ended in  63.08  seconds\n",
      "\n",
      "Computing approx. LL\n",
      "Approx. LL computed in 16.4 seconds\n"
     ]
    },
    {
     "name": "stderr",
     "output_type": "stream",
     "text": [
      "/Users/gateslab/school/code/DeepIRTools/figures.py:87: UserWarning: Matplotlib is currently using module://matplotlib_inline.backend_inline, which is a non-GUI backend, so cannot show the figure.\n",
      "  fig.show()\n"
     ]
    },
    {
     "data": {
      "image/png": "[encoded data removed]",
      "text/plain": [
       "<Figure size 360x360 with 1 Axes>"
      ]
     },
     "metadata": {
      "needs_background": "light"
     },
     "output_type": "display_data"
    }
   ],
   "source": [
    "# This will take a few minutes to run.\n",
    "ll_list = screeplot(latent_sizes = [int(i + 1) for i in range(2, 8)],\n",
    "                    data = Y,\n",
    "                    mirt_model = \"grm\",\n",
    "                    test_size = 0.01,\n",
    "                    inference_net_sizes_list = [[n_items, 100]] * 10,\n",
    "                    learning_rates = [5e-3] * 10,\n",
    "                    missing_mask = missing_mask,\n",
    "                    device = \"cpu\",                  \n",
    "                    iw_samples_fit = 5,\n",
    "                    iw_samples_ll = 500,\n",
    "                    n_cats = [5] * n_items,\n",
    "                   )"
   ]
  },
  {
   "cell_type": "markdown",
   "id": "8fd46c06",
   "metadata": {},
   "source": [
    "Another goal in the exploratory context is to uncover the factor loadings structure.\n",
    "\n",
    "Since we found an \"elbow\" at 5 latent factors, we fit a 5-factor IFA model with unconstrained loadings and standard normal factors. We then use Geomin oblique rotation from the FactorAnalyzer package to produce rotated loadings, which have a clear simple structure."
   ]
  },
  {
   "cell_type": "code",
   "execution_count": 3,
   "id": "d1829c4b",
   "metadata": {},
   "outputs": [
    {
     "name": "stdout",
     "output_type": "stream",
     "text": [
      "\n",
      "Fitting started\n",
      "Epoch =       0 Iter. =  17601   Current mean loss = 64.00   Intervals no change = 100\n",
      "Fitting ended in  53.11  seconds\n"
     ]
    },
    {
     "data": {
      "image/png": "[encoded data removed]",
      "text/plain": [
       "<Figure size 432x288 with 2 Axes>"
      ]
     },
     "metadata": {
      "needs_background": "light"
     },
     "output_type": "display_data"
    }
   ],
   "source": [
    "from factor_analyzer import Rotator\n",
    "\n",
    "model = ImportanceWeightedEstimator(learning_rate = 5e-3,\n",
    "                                    device = \"cpu\",\n",
    "                                    mirt_model = \"grm\",\n",
    "                                    log_interval = 100,\n",
    "                                    inference_net_sizes = [n_items, 100],\n",
    "                                    latent_size = 5,\n",
    "                                    n_cats = [5] * n_items,\n",
    "                                   )\n",
    "model.fit(Y, missing_mask=missing_mask, iw_samples=5)\n",
    "\n",
    "rotator = Rotator(method = \"geomin_obl\")\n",
    "rot_loadings = rotator.fit_transform(model.loadings)\n",
    "loadings_heatmap(rot_loadings)"
   ]
  },
  {
   "cell_type": "markdown",
   "id": "386b952a",
   "metadata": {},
   "source": [
    "## Confirmatory Item Factor Analysis"
   ]
  },
  {
   "cell_type": "markdown",
   "id": "a4b0569d",
   "metadata": {},
   "source": [
    "In the confirmatory IFA setting, researchers have *a priori* theories about the loadings structure which they want to test for goodness-of-fit.\n",
    "\n",
    "There are several ways to implement these constraints. One is to use a binary matrix *Q* whose elements are zero if the corresponding loading is set to zero and one otherwise.\n",
    "\n",
    "We demonstrate this by imposing simple stucture on the loadings matrix using *Q* below. We also estimate the correlations between the latent factors."
   ]
  },
  {
   "cell_type": "code",
   "execution_count": 4,
   "id": "de964508",
   "metadata": {},
   "outputs": [
    {
     "name": "stdout",
     "output_type": "stream",
     "text": [
      "\n",
      "Fitting started\n",
      "Epoch =       0 Iter. =  18801   Current mean loss = 64.76   Intervals no change = 100\n",
      "Fitting ended in  86.81  seconds\n",
      "\n",
      "Loadings\n",
      "\n",
      " tensor([[1.9000, 0.0000, 0.0000, 0.0000, 0.0000],\n",
      "        [1.9800, 0.0000, 0.0000, 0.0000, 0.0000],\n",
      "        [1.9500, 0.0000, 0.0000, 0.0000, 0.0000],\n",
      "        [2.2700, 0.0000, 0.0000, 0.0000, 0.0000],\n",
      "        [2.3700, 0.0000, 0.0000, 0.0000, 0.0000],\n",
      "        [1.4300, 0.0000, 0.0000, 0.0000, 0.0000],\n",
      "        [2.2800, 0.0000, 0.0000, 0.0000, 0.0000],\n",
      "        [1.4200, 0.0000, 0.0000, 0.0000, 0.0000],\n",
      "        [1.5300, 0.0000, 0.0000, 0.0000, 0.0000],\n",
      "        [2.1600, 0.0000, 0.0000, 0.0000, 0.0000],\n",
      "        [0.0000, 1.8800, 0.0000, 0.0000, 0.0000],\n",
      "        [0.0000, 1.3200, 0.0000, 0.0000, 0.0000],\n",
      "        [0.0000, 1.5700, 0.0000, 0.0000, 0.0000],\n",
      "        [0.0000, 0.9700, 0.0000, 0.0000, 0.0000],\n",
      "        [0.0000, 1.2400, 0.0000, 0.0000, 0.0000],\n",
      "        [0.0000, 2.1900, 0.0000, 0.0000, 0.0000],\n",
      "        [0.0000, 2.2100, 0.0000, 0.0000, 0.0000],\n",
      "        [0.0000, 2.4600, 0.0000, 0.0000, 0.0000],\n",
      "        [0.0000, 1.8400, 0.0000, 0.0000, 0.0000],\n",
      "        [0.0000, 1.7400, 0.0000, 0.0000, 0.0000],\n",
      "        [0.0000, 0.0000, 1.3100, 0.0000, 0.0000],\n",
      "        [0.0000, 0.0000, 1.5800, 0.0000, 0.0000],\n",
      "        [0.0000, 0.0000, 0.7400, 0.0000, 0.0000],\n",
      "        [0.0000, 0.0000, 2.6400, 0.0000, 0.0000],\n",
      "        [0.0000, 0.0000, 1.9500, 0.0000, 0.0000],\n",
      "        [0.0000, 0.0000, 1.3600, 0.0000, 0.0000],\n",
      "        [0.0000, 0.0000, 1.9500, 0.0000, 0.0000],\n",
      "        [0.0000, 0.0000, 1.5500, 0.0000, 0.0000],\n",
      "        [0.0000, 0.0000, 2.1300, 0.0000, 0.0000],\n",
      "        [0.0000, 0.0000, 1.0900, 0.0000, 0.0000],\n",
      "        [0.0000, 0.0000, 0.0000, 1.5900, 0.0000],\n",
      "        [0.0000, 0.0000, 0.0000, 1.4400, 0.0000],\n",
      "        [0.0000, 0.0000, 0.0000, 0.7900, 0.0000],\n",
      "        [0.0000, 0.0000, 0.0000, 1.6200, 0.0000],\n",
      "        [0.0000, 0.0000, 0.0000, 1.6400, 0.0000],\n",
      "        [0.0000, 0.0000, 0.0000, 1.7400, 0.0000],\n",
      "        [0.0000, 0.0000, 0.0000, 1.2600, 0.0000],\n",
      "        [0.0000, 0.0000, 0.0000, 1.2600, 0.0000],\n",
      "        [0.0000, 0.0000, 0.0000, 1.4100, 0.0000],\n",
      "        [0.0000, 0.0000, 0.0000, 0.9000, 0.0000],\n",
      "        [0.0000, 0.0000, 0.0000, 0.0000, 1.2100],\n",
      "        [0.0000, 0.0000, 0.0000, 0.0000, 1.4200],\n",
      "        [0.0000, 0.0000, 0.0000, 0.0000, 1.4000],\n",
      "        [0.0000, 0.0000, 0.0000, 0.0000, 1.2300],\n",
      "        [0.0000, 0.0000, 0.0000, 0.0000, 1.6300],\n",
      "        [0.0000, 0.0000, 0.0000, 0.0000, 1.5200],\n",
      "        [0.0000, 0.0000, 0.0000, 0.0000, 1.1100],\n",
      "        [0.0000, 0.0000, 0.0000, 0.0000, 1.0600],\n",
      "        [0.0000, 0.0000, 0.0000, 0.0000, 0.8000],\n",
      "        [0.0000, 0.0000, 0.0000, 0.0000, 2.1500]])\n",
      "\n",
      "Factor correlations\n",
      "\n",
      " tensor([[ 1.0000, -0.2400,  0.3500,  0.0800,  0.2100],\n",
      "        [-0.2400,  1.0000, -0.0500, -0.2800, -0.0800],\n",
      "        [ 0.3500, -0.0500,  1.0000,  0.1600,  0.1600],\n",
      "        [ 0.0800, -0.2800,  0.1600,  1.0000,  0.0700],\n",
      "        [ 0.2100, -0.0800,  0.1600,  0.0700,  1.0000]])\n"
     ]
    }
   ],
   "source": [
    "Q = torch.block_diag(*[torch.ones([10, 1])] * 5)\n",
    "\n",
    "model = ImportanceWeightedEstimator(learning_rate = 5e-3,\n",
    "                                    device = \"cpu\",\n",
    "                                    mirt_model = \"grm\",\n",
    "                                    log_interval = 100,\n",
    "                                    Q = Q,\n",
    "                                    inference_net_sizes = [n_items, 100],\n",
    "                                    latent_size = 5,\n",
    "                                    n_cats = [5] * n_items,\n",
    "                                    correlated_factors = [0, 1, 2, 3, 4],\n",
    "                                   )\n",
    "model.fit(Y, missing_mask=missing_mask, iw_samples=5)\n",
    "\n",
    "print(\"\\nLoadings\\n\\n\", np.around(model.loadings, 2))\n",
    "print(\"\\nFactor correlations\\n\\n\", np.around(model.cov, 2))"
   ]
  },
  {
   "cell_type": "markdown",
   "id": "1c807774",
   "metadata": {},
   "source": [
    "We can implement a wider range of confirmatory IFA models using linear constraints encoded in a matrix *A* and a vector *b*. We implement a similar model to the one fitted above, except the first loading on each factor is constrained to 1 and the factor variances are freely estimated."
   ]
  },
  {
   "cell_type": "code",
   "execution_count": 5,
   "id": "61bd39ce",
   "metadata": {},
   "outputs": [
    {
     "name": "stdout",
     "output_type": "stream",
     "text": [
      "\n",
      "Fitting started\n",
      "Epoch =       1 Iter. =  20701   Current mean loss = 64.68   Intervals no change = 100\n",
      "Fitting ended in  96.33  seconds\n",
      "\n",
      "Loadings\n",
      "\n",
      " tensor([[1.0000, 0.0000, 0.0000, 0.0000, 0.0000],\n",
      "        [1.1000, 0.0000, 0.0000, 0.0000, 0.0000],\n",
      "        [1.0600, 0.0000, 0.0000, 0.0000, 0.0000],\n",
      "        [1.2400, 0.0000, 0.0000, 0.0000, 0.0000],\n",
      "        [1.3300, 0.0000, 0.0000, 0.0000, 0.0000],\n",
      "        [0.7900, 0.0000, 0.0000, 0.0000, 0.0000],\n",
      "        [1.1900, 0.0000, 0.0000, 0.0000, 0.0000],\n",
      "        [0.7700, 0.0000, 0.0000, 0.0000, 0.0000],\n",
      "        [0.8400, 0.0000, 0.0000, 0.0000, 0.0000],\n",
      "        [1.1400, 0.0000, 0.0000, 0.0000, 0.0000],\n",
      "        [0.0000, 1.0000, 0.0000, 0.0000, 0.0000],\n",
      "        [0.0000, 0.6800, 0.0000, 0.0000, 0.0000],\n",
      "        [0.0000, 0.8600, 0.0000, 0.0000, 0.0000],\n",
      "        [0.0000, 0.4700, 0.0000, 0.0000, 0.0000],\n",
      "        [0.0000, 0.6400, 0.0000, 0.0000, 0.0000],\n",
      "        [0.0000, 1.1900, 0.0000, 0.0000, 0.0000],\n",
      "        [0.0000, 1.1600, 0.0000, 0.0000, 0.0000],\n",
      "        [0.0000, 1.3300, 0.0000, 0.0000, 0.0000],\n",
      "        [0.0000, 0.9600, 0.0000, 0.0000, 0.0000],\n",
      "        [0.0000, 0.8900, 0.0000, 0.0000, 0.0000],\n",
      "        [0.0000, 0.0000, 1.0000, 0.0000, 0.0000],\n",
      "        [0.0000, 0.0000, 1.2000, 0.0000, 0.0000],\n",
      "        [0.0000, 0.0000, 0.5400, 0.0000, 0.0000],\n",
      "        [0.0000, 0.0000, 1.9800, 0.0000, 0.0000],\n",
      "        [0.0000, 0.0000, 1.4600, 0.0000, 0.0000],\n",
      "        [0.0000, 0.0000, 1.0300, 0.0000, 0.0000],\n",
      "        [0.0000, 0.0000, 1.5000, 0.0000, 0.0000],\n",
      "        [0.0000, 0.0000, 1.1300, 0.0000, 0.0000],\n",
      "        [0.0000, 0.0000, 1.5900, 0.0000, 0.0000],\n",
      "        [0.0000, 0.0000, 0.8100, 0.0000, 0.0000],\n",
      "        [0.0000, 0.0000, 0.0000, 1.0000, 0.0000],\n",
      "        [0.0000, 0.0000, 0.0000, 0.8900, 0.0000],\n",
      "        [0.0000, 0.0000, 0.0000, 0.4900, 0.0000],\n",
      "        [0.0000, 0.0000, 0.0000, 1.0300, 0.0000],\n",
      "        [0.0000, 0.0000, 0.0000, 1.0000, 0.0000],\n",
      "        [0.0000, 0.0000, 0.0000, 1.1400, 0.0000],\n",
      "        [0.0000, 0.0000, 0.0000, 0.8100, 0.0000],\n",
      "        [0.0000, 0.0000, 0.0000, 0.7900, 0.0000],\n",
      "        [0.0000, 0.0000, 0.0000, 0.9000, 0.0000],\n",
      "        [0.0000, 0.0000, 0.0000, 0.5900, 0.0000],\n",
      "        [0.0000, 0.0000, 0.0000, 0.0000, 1.0000],\n",
      "        [0.0000, 0.0000, 0.0000, 0.0000, 1.1300],\n",
      "        [0.0000, 0.0000, 0.0000, 0.0000, 1.1200],\n",
      "        [0.0000, 0.0000, 0.0000, 0.0000, 1.0400],\n",
      "        [0.0000, 0.0000, 0.0000, 0.0000, 1.2800],\n",
      "        [0.0000, 0.0000, 0.0000, 0.0000, 1.1800],\n",
      "        [0.0000, 0.0000, 0.0000, 0.0000, 0.7900],\n",
      "        [0.0000, 0.0000, 0.0000, 0.0000, 0.8800],\n",
      "        [0.0000, 0.0000, 0.0000, 0.0000, 0.6300],\n",
      "        [0.0000, 0.0000, 0.0000, 0.0000, 1.7400]])\n",
      "\n",
      "Factor covariances\n",
      "\n",
      " tensor([[ 3.3700, -0.8400,  0.9000,  0.3200,  0.4500],\n",
      "        [-0.8400,  3.7200, -0.0100, -0.8600, -0.1900],\n",
      "        [ 0.9000, -0.0100,  1.7600,  0.2900,  0.2600],\n",
      "        [ 0.3200, -0.8600,  0.2900,  2.3900,  0.0700],\n",
      "        [ 0.4500, -0.1900,  0.2600,  0.0700,  1.6300]])\n"
     ]
    }
   ],
   "source": [
    "constraint_ls = ([torch.zeros(1), torch.eye(9), torch.zeros([n_items, n_items]),\n",
    "                  torch.zeros(1), torch.eye(9), torch.zeros([n_items, n_items]),\n",
    "                  torch.zeros(1), torch.eye(9), torch.zeros([n_items, n_items]),\n",
    "                  torch.zeros(1), torch.eye(9), torch.zeros([n_items, n_items]),\n",
    "                  torch.zeros(1), torch.eye(9)])\n",
    "A = torch.block_diag(*constraint_ls)\n",
    "b = torch.cat(([torch.ones(1), torch.zeros([9 + n_items]),\n",
    "                torch.ones(1), torch.zeros([9 + n_items]),\n",
    "                torch.ones(1), torch.zeros([9 + n_items]),\n",
    "                torch.ones(1), torch.zeros([9 + n_items]),\n",
    "                torch.ones(1), torch.zeros([9])]), dim=0)\n",
    "\n",
    "model = ImportanceWeightedEstimator(learning_rate = 5e-3,\n",
    "                                    device = \"cpu\",\n",
    "                                    mirt_model = \"grm\",\n",
    "                                    log_interval = 100,\n",
    "                                    A = A,\n",
    "                                    b = b,\n",
    "                                    inference_net_sizes = [n_items, 100],\n",
    "                                    latent_size = 5,\n",
    "                                    n_cats = [5] * n_items,\n",
    "                                    fixed_variances = False,\n",
    "                                    correlated_factors = [0, 1, 2, 3, 4],\n",
    "                                   )\n",
    "model.fit(Y, missing_mask=missing_mask, iw_samples=5)\n",
    "\n",
    "print(\"\\nLoadings\\n\\n\", np.around(model.loadings, 2))\n",
    "print(\"\\nFactor covariances\\n\\n\", np.around(model.cov, 2))"
   ]
  },
  {
   "cell_type": "markdown",
   "id": "a1462918",
   "metadata": {},
   "source": [
    "Next, let's fit the generalized partial credit model to the Big Five data using the *Q* matrix approach."
   ]
  },
  {
   "cell_type": "code",
   "execution_count": 6,
   "id": "9cba4648",
   "metadata": {},
   "outputs": [
    {
     "name": "stdout",
     "output_type": "stream",
     "text": [
      "\n",
      "Fitting started\n",
      "Epoch =       0 Iter. =  12201   Current mean loss = 65.41   Intervals no change = 100\n",
      "Fitting ended in  58.97  seconds\n",
      "\n",
      "Loadings\n",
      "\n",
      " tensor([[1.1200, 0.0000, 0.0000, 0.0000, 0.0000],\n",
      "        [1.1300, 0.0000, 0.0000, 0.0000, 0.0000],\n",
      "        [1.1200, 0.0000, 0.0000, 0.0000, 0.0000],\n",
      "        [1.4100, 0.0000, 0.0000, 0.0000, 0.0000],\n",
      "        [1.5000, 0.0000, 0.0000, 0.0000, 0.0000],\n",
      "        [0.8100, 0.0000, 0.0000, 0.0000, 0.0000],\n",
      "        [1.2500, 0.0000, 0.0000, 0.0000, 0.0000],\n",
      "        [0.7000, 0.0000, 0.0000, 0.0000, 0.0000],\n",
      "        [0.7800, 0.0000, 0.0000, 0.0000, 0.0000],\n",
      "        [1.2500, 0.0000, 0.0000, 0.0000, 0.0000],\n",
      "        [0.0000, 1.0700, 0.0000, 0.0000, 0.0000],\n",
      "        [0.0000, 0.6500, 0.0000, 0.0000, 0.0000],\n",
      "        [0.0000, 0.8600, 0.0000, 0.0000, 0.0000],\n",
      "        [0.0000, 0.4000, 0.0000, 0.0000, 0.0000],\n",
      "        [0.0000, 0.5700, 0.0000, 0.0000, 0.0000],\n",
      "        [0.0000, 1.2700, 0.0000, 0.0000, 0.0000],\n",
      "        [0.0000, 1.3900, 0.0000, 0.0000, 0.0000],\n",
      "        [0.0000, 1.5500, 0.0000, 0.0000, 0.0000],\n",
      "        [0.0000, 0.9900, 0.0000, 0.0000, 0.0000],\n",
      "        [0.0000, 0.8800, 0.0000, 0.0000, 0.0000],\n",
      "        [0.0000, 0.0000, 0.4900, 0.0000, 0.0000],\n",
      "        [0.0000, 0.0000, 0.9900, 0.0000, 0.0000],\n",
      "        [0.0000, 0.0000, 0.3200, 0.0000, 0.0000],\n",
      "        [0.0000, 0.0000, 1.7800, 0.0000, 0.0000],\n",
      "        [0.0000, 0.0000, 1.2100, 0.0000, 0.0000],\n",
      "        [0.0000, 0.0000, 0.7400, 0.0000, 0.0000],\n",
      "        [0.0000, 0.0000, 1.1900, 0.0000, 0.0000],\n",
      "        [0.0000, 0.0000, 0.9100, 0.0000, 0.0000],\n",
      "        [0.0000, 0.0000, 1.3000, 0.0000, 0.0000],\n",
      "        [0.0000, 0.0000, 0.6000, 0.0000, 0.0000],\n",
      "        [0.0000, 0.0000, 0.0000, 0.9100, 0.0000],\n",
      "        [0.0000, 0.0000, 0.0000, 0.6400, 0.0000],\n",
      "        [0.0000, 0.0000, 0.0000, 0.4400, 0.0000],\n",
      "        [0.0000, 0.0000, 0.0000, 0.8600, 0.0000],\n",
      "        [0.0000, 0.0000, 0.0000, 0.8600, 0.0000],\n",
      "        [0.0000, 0.0000, 0.0000, 0.8300, 0.0000],\n",
      "        [0.0000, 0.0000, 0.0000, 0.6900, 0.0000],\n",
      "        [0.0000, 0.0000, 0.0000, 0.6800, 0.0000],\n",
      "        [0.0000, 0.0000, 0.0000, 0.7300, 0.0000],\n",
      "        [0.0000, 0.0000, 0.0000, 0.5300, 0.0000],\n",
      "        [0.0000, 0.0000, 0.0000, 0.0000, 0.7200],\n",
      "        [0.0000, 0.0000, 0.0000, 0.0000, 0.8100],\n",
      "        [0.0000, 0.0000, 0.0000, 0.0000, 0.7800],\n",
      "        [0.0000, 0.0000, 0.0000, 0.0000, 0.6500],\n",
      "        [0.0000, 0.0000, 0.0000, 0.0000, 1.1600],\n",
      "        [0.0000, 0.0000, 0.0000, 0.0000, 0.8100],\n",
      "        [0.0000, 0.0000, 0.0000, 0.0000, 0.7200],\n",
      "        [0.0000, 0.0000, 0.0000, 0.0000, 0.5600],\n",
      "        [0.0000, 0.0000, 0.0000, 0.0000, 0.3700],\n",
      "        [0.0000, 0.0000, 0.0000, 0.0000, 1.5300]])\n",
      "\n",
      "Factor correlations\n",
      "\n",
      " tensor([[ 1.0000, -0.2500,  0.3700,  0.0800,  0.2500],\n",
      "        [-0.2500,  1.0000, -0.0600, -0.2800, -0.1200],\n",
      "        [ 0.3700, -0.0600,  1.0000,  0.1800,  0.1500],\n",
      "        [ 0.0800, -0.2800,  0.1800,  1.0000,  0.1300],\n",
      "        [ 0.2500, -0.1200,  0.1500,  0.1300,  1.0000]])\n"
     ]
    }
   ],
   "source": [
    "Q = torch.block_diag(*[torch.ones([10, 1])] * 5)\n",
    "\n",
    "model = ImportanceWeightedEstimator(learning_rate = 5e-3,\n",
    "                                    device = \"cpu\",\n",
    "                                    mirt_model = \"gpcm\",\n",
    "                                    log_interval = 100,\n",
    "                                    Q = Q,\n",
    "                                    inference_net_sizes = [n_items, 100],\n",
    "                                    latent_size = 5,\n",
    "                                    n_cats = [5] * n_items,\n",
    "                                    correlated_factors = [0, 1, 2, 3, 4],\n",
    "                                   )\n",
    "model.fit(Y, missing_mask=missing_mask, iw_samples=5)\n",
    "\n",
    "print(\"\\nLoadings\\n\\n\", np.around(model.loadings, 2))\n",
    "print(\"\\nFactor correlations\\n\\n\", np.around(model.cov, 2))"
   ]
  },
  {
   "cell_type": "markdown",
   "id": "741d99de",
   "metadata": {},
   "source": [
    "We can also fit a classic linear factor model with the *Q* matrix approach."
   ]
  },
  {
   "cell_type": "code",
   "execution_count": 7,
   "id": "5c52ae7c",
   "metadata": {},
   "outputs": [
    {
     "name": "stdout",
     "output_type": "stream",
     "text": [
      "\n",
      "Fitting started\n",
      "Epoch =       0 Iter. =  19401   Current mean loss = 72.14   Intervals no change = 100\n",
      "Fitting ended in  68.76  seconds\n",
      "\n",
      "Loadings\n",
      "\n",
      " tensor([[0.8500, 0.0000, 0.0000, 0.0000, 0.0000],\n",
      "        [0.9300, 0.0000, 0.0000, 0.0000, 0.0000],\n",
      "        [0.8100, 0.0000, 0.0000, 0.0000, 0.0000],\n",
      "        [0.8800, 0.0000, 0.0000, 0.0000, 0.0000],\n",
      "        [0.9200, 0.0000, 0.0000, 0.0000, 0.0000],\n",
      "        [0.6900, 0.0000, 0.0000, 0.0000, 0.0000],\n",
      "        [1.0200, 0.0000, 0.0000, 0.0000, 0.0000],\n",
      "        [0.7000, 0.0000, 0.0000, 0.0000, 0.0000],\n",
      "        [0.8300, 0.0000, 0.0000, 0.0000, 0.0000],\n",
      "        [0.8800, 0.0000, 0.0000, 0.0000, 0.0000],\n",
      "        [0.0000, 0.9000, 0.0000, 0.0000, 0.0000],\n",
      "        [0.0000, 0.6500, 0.0000, 0.0000, 0.0000],\n",
      "        [0.0000, 0.6600, 0.0000, 0.0000, 0.0000],\n",
      "        [0.0000, 0.5100, 0.0000, 0.0000, 0.0000],\n",
      "        [0.0000, 0.6500, 0.0000, 0.0000, 0.0000],\n",
      "        [0.0000, 0.9500, 0.0000, 0.0000, 0.0000],\n",
      "        [0.0000, 0.9500, 0.0000, 0.0000, 0.0000],\n",
      "        [0.0000, 1.0200, 0.0000, 0.0000, 0.0000],\n",
      "        [0.0000, 0.8600, 0.0000, 0.0000, 0.0000],\n",
      "        [0.0000, 0.8300, 0.0000, 0.0000, 0.0000],\n",
      "        [0.0000, 0.0000, 0.6300, 0.0000, 0.0000],\n",
      "        [0.0000, 0.0000, 0.6800, 0.0000, 0.0000],\n",
      "        [0.0000, 0.0000, 0.4200, 0.0000, 0.0000],\n",
      "        [0.0000, 0.0000, 0.8300, 0.0000, 0.0000],\n",
      "        [0.0000, 0.0000, 0.8200, 0.0000, 0.0000],\n",
      "        [0.0000, 0.0000, 0.6700, 0.0000, 0.0000],\n",
      "        [0.0000, 0.0000, 0.7600, 0.0000, 0.0000],\n",
      "        [0.0000, 0.0000, 0.6700, 0.0000, 0.0000],\n",
      "        [0.0000, 0.0000, 0.8300, 0.0000, 0.0000],\n",
      "        [0.0000, 0.0000, 0.4900, 0.0000, 0.0000],\n",
      "        [0.0000, 0.0000, 0.0000, 0.6900, 0.0000],\n",
      "        [0.0000, 0.0000, 0.0000, 0.8000, 0.0000],\n",
      "        [0.0000, 0.0000, 0.0000, 0.3500, 0.0000],\n",
      "        [0.0000, 0.0000, 0.0000, 0.8200, 0.0000],\n",
      "        [0.0000, 0.0000, 0.0000, 0.7800, 0.0000],\n",
      "        [0.0000, 0.0000, 0.0000, 0.9500, 0.0000],\n",
      "        [0.0000, 0.0000, 0.0000, 0.5600, 0.0000],\n",
      "        [0.0000, 0.0000, 0.0000, 0.6100, 0.0000],\n",
      "        [0.0000, 0.0000, 0.0000, 0.7300, 0.0000],\n",
      "        [0.0000, 0.0000, 0.0000, 0.4500, 0.0000],\n",
      "        [0.0000, 0.0000, 0.0000, 0.0000, 0.5700],\n",
      "        [0.0000, 0.0000, 0.0000, 0.0000, 0.6000],\n",
      "        [0.0000, 0.0000, 0.0000, 0.0000, 0.5900],\n",
      "        [0.0000, 0.0000, 0.0000, 0.0000, 0.5300],\n",
      "        [0.0000, 0.0000, 0.0000, 0.0000, 0.6100],\n",
      "        [0.0000, 0.0000, 0.0000, 0.0000, 0.6400],\n",
      "        [0.0000, 0.0000, 0.0000, 0.0000, 0.4200],\n",
      "        [0.0000, 0.0000, 0.0000, 0.0000, 0.6000],\n",
      "        [0.0000, 0.0000, 0.0000, 0.0000, 0.3400],\n",
      "        [0.0000, 0.0000, 0.0000, 0.0000, 0.7300]])\n",
      "\n",
      "Factor correlations\n",
      "\n",
      " tensor([[ 1.0000, -0.2100,  0.3600,  0.0900,  0.2200],\n",
      "        [-0.2100,  1.0000,  0.0200, -0.2900, -0.1000],\n",
      "        [ 0.3600,  0.0200,  1.0000,  0.1100,  0.1400],\n",
      "        [ 0.0900, -0.2900,  0.1100,  1.0000,  0.0700],\n",
      "        [ 0.2200, -0.1000,  0.1400,  0.0700,  1.0000]])\n"
     ]
    }
   ],
   "source": [
    "Q = torch.block_diag(*[torch.ones([10, 1])] * 5)\n",
    "\n",
    "model = ImportanceWeightedEstimator(learning_rate = 5e-3,\n",
    "                                    device = \"cpu\",\n",
    "                                    mirt_model = \"normal\",\n",
    "                                    log_interval = 100,\n",
    "                                    Q = Q,\n",
    "                                    inference_net_sizes = [n_items, 100],\n",
    "                                    latent_size = 5,\n",
    "                                    n_items = n_items,\n",
    "                                    correlated_factors = [0, 1, 2, 3, 4],\n",
    "                                   )\n",
    "model.fit(Y, missing_mask=missing_mask, iw_samples=5)\n",
    "\n",
    "print(\"\\nLoadings\\n\\n\", np.around(model.loadings, 2))\n",
    "print(\"\\nFactor correlations\\n\\n\", np.around(model.cov, 2))"
   ]
  },
  {
   "cell_type": "markdown",
   "id": "e3dd339f",
   "metadata": {},
   "source": [
    "It's sometimes of interest to model response times (which are strictly positive) using a log-normal measurement model. We assume that a single standard normally distributed \"speed\" latent variable gives rise to the response times. In this setting, the intercepts and residual variances are of interest; loadings are typically constrained to one.\n",
    "\n",
    "It is worth noting that fitting can be numerically unstable when the response times are too large. To improve stability, we have dropped individuals who took more than 100 seconds to respond to any questions."
   ]
  },
  {
   "cell_type": "code",
   "execution_count": 8,
   "id": "df3f803b",
   "metadata": {},
   "outputs": [
    {
     "name": "stdout",
     "output_type": "stream",
     "text": [
      "\n",
      "Fitting started\n",
      "Epoch =       1 Iter. =  21301   Current mean loss = 135.89   Intervals no change = 100\n",
      "Fitting ended in  44.04  seconds\n"
     ]
    }
   ],
   "source": [
    "A = torch.zeros([n_items, n_items])\n",
    "b = torch.ones(n_items)\n",
    "\n",
    "model = ImportanceWeightedEstimator(learning_rate = 1e-3,\n",
    "                                    device = \"cpu\",\n",
    "                                    mirt_model = \"lognormal\",\n",
    "                                    log_interval = 100,\n",
    "                                    A = A,\n",
    "                                    b = b,\n",
    "                                    inference_net_sizes = [n_items, 100],\n",
    "                                    latent_size = 1,\n",
    "                                    n_items = n_items,\n",
    "                                   )\n",
    "model.fit(T, missing_mask=missing_mask, iw_samples=5)"
   ]
  },
  {
   "cell_type": "code",
   "execution_count": 9,
   "id": "2f7aba2b",
   "metadata": {},
   "outputs": [
    {
     "name": "stdout",
     "output_type": "stream",
     "text": [
      "Parameter containing:\n",
      "tensor([1.6861, 0.8883, 0.9174, 0.9102, 0.7158, 0.8070, 1.0940, 0.9432, 0.9663,\n",
      "        0.8326, 0.8468, 0.8741, 0.6976, 0.9079, 0.9264, 0.7542, 0.8325, 0.7530,\n",
      "        0.7049, 0.6432, 1.1401, 0.8002, 0.8432, 0.8112, 1.0546, 0.6770, 0.9798,\n",
      "        0.9621, 0.8204, 0.8566, 0.8367, 1.0845, 0.8179, 0.8481, 0.9367, 1.1199,\n",
      "        0.7375, 1.0777, 0.7069, 1.0311, 0.7111, 1.1169, 0.6728, 0.9873, 0.6948,\n",
      "        0.8487, 0.7768, 0.7634, 0.8413, 0.4871], requires_grad=True)\n",
      "tensor([1.2494, 1.2819, 1.1465, 1.1786, 1.4727, 1.0110, 1.2353, 1.0382, 1.0846,\n",
      "        1.0231, 1.4434, 1.5859, 1.0543, 1.6108, 1.0299, 1.5669, 0.9929, 1.1824,\n",
      "        1.0380, 1.2157, 1.2701, 1.5715, 1.0002, 1.2701, 1.0835, 1.5030, 0.9967,\n",
      "        1.3020, 0.9971, 1.3122, 1.8432, 1.3055, 1.1367, 1.1598, 1.2467, 1.0450,\n",
      "        1.1326, 1.3614, 1.1970, 1.3815, 1.5749, 1.1351, 1.2979, 1.0895, 1.2036,\n",
      "        1.2606, 1.2665, 1.2339, 1.1861, 1.1166], grad_fn=<AddBackward0>)\n"
     ]
    }
   ],
   "source": [
    "print(model.model.decoder.bias)\n",
    "print(torch.nn.functional.softplus(model.model.decoder.free_phi) + 1e-7)"
   ]
  }
 ],
 "metadata": {
  "kernelspec": {
   "display_name": "Python 3 (ipykernel)",
   "language": "python",
   "name": "python3"
  },
  "language_info": {
   "codemirror_mode": {
    "name": "ipython",
    "version": 3
   },
   "file_extension": ".py",
   "mimetype": "text/x-python",
   "name": "python",
   "nbconvert_exporter": "python",
   "pygments_lexer": "ipython3",
   "version": "3.9.7"
  }
 },
 "nbformat": 4,
 "nbformat_minor": 5
}
