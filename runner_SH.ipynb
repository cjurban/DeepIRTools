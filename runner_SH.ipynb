{
 "cells": [
  {
   "cell_type": "code",
   "execution_count": 25,
   "metadata": {
    "tags": []
   },
   "outputs": [],
   "source": [
    "from __future__ import print_function\n",
    "#!pip install torch\n",
    "#!pip install torchvision\n",
    "import torch\n",
    "from torchvision import datasets, transforms\n",
    "import sys\n",
    "import timeit\n",
    "# !pip install factor_analyzer\n",
    "from factor_analyzer import Rotator # May need to be installed; see https://pypi.org/project/factor-analyzer/\n",
    "import matplotlib.pyplot as plt\n",
    "import matplotlib.backends.backend_pdf\n",
    "from pylab import *\n",
    "import pandas as pd\n",
    "\n",
    "from utils import *\n",
    "from helper_layers import *\n",
    "from base_class import *\n",
    "from mirt_vae import *\n",
    "from read_data import *\n",
    "\n",
    "# Re-import some packages to reload functions without needing to restart the kernel. jupyter notebook doesn't update the files in the same kernel\n",
    "import sys, importlib\n",
    "importlib.reload(sys.modules[\"utils\"])\n",
    "importlib.reload(sys.modules[\"helper_layers\"])\n",
    "importlib.reload(sys.modules[\"base_class\"])\n",
    "importlib.reload(sys.modules[\"mirt_vae\"])\n",
    "importlib.reload(sys.modules[\"read_data\"])\n",
    "\n",
    "from utils import *\n",
    "from helper_layers import *\n",
    "from base_class import *\n",
    "from mirt_vae import *\n",
    "from read_data import *\n",
    "\n",
    "# Suppress scientific notation.\n",
    "np.set_printoptions(suppress = True)\n",
    "\n",
    "# Print full arrays.\n",
    "np.set_printoptions(threshold = sys.maxsize)\n",
    "\n",
    "# If CUDA is available, use it.\n",
    "cuda = torch.cuda.is_available()\n",
    "device = torch.device(\"cuda\" if cuda else \"cpu\")\n",
    "kwargs = {\"num_workers\" : 1, \"pin_memory\" : True} if cuda else {}\n",
    "\n",
    "# Set log interval.\n",
    "ipip_log_interval = 200"
   ]
  },
  {
   "cell_type": "code",
   "execution_count": 22,
   "metadata": {},
   "outputs": [
    {
     "name": "stderr",
     "output_type": "stream",
     "text": [
      "/Users/sharahe/opt/anaconda3/envs/pytorch_m1/lib/python3.8/site-packages/sklearn/preprocessing/_encoders.py:82: FutureWarning: elementwise comparison failed; returning scalar instead, but in the future will perform elementwise comparison\n",
      "  if self.categories != \"auto\":\n",
      "/Users/sharahe/opt/anaconda3/envs/pytorch_m1/lib/python3.8/site-packages/sklearn/preprocessing/_encoders.py:93: FutureWarning: elementwise comparison failed; returning scalar instead, but in the future will perform elementwise comparison\n",
      "  if self.categories == \"auto\":\n"
     ]
    },
    {
     "data": {
      "text/plain": [
       "array([0., 0., 0., 1., 0., 0., 0., 0., 0., 1., 0., 0., 0., 0., 1., 0., 0.,\n",
       "       0., 1., 0., 0., 0., 0., 0., 1., 0., 0., 0., 0., 1., 0., 0., 0., 0.,\n",
       "       1., 0., 0., 0., 1., 0., 0., 0., 0., 1., 0., 0., 0., 0., 0., 1., 1.,\n",
       "       0., 0., 0., 0., 0., 1., 0., 0., 0., 0., 0., 0., 1., 0., 0., 0., 0.,\n",
       "       1., 0., 0., 1., 0., 0., 0., 0., 1., 0., 0., 0., 0., 1., 0., 0., 0.,\n",
       "       0., 1., 0., 0., 0., 0., 0., 1., 0., 0., 0., 1., 0., 0., 0., 0., 0.,\n",
       "       0., 1., 0., 0., 0., 0., 0., 1., 0., 0., 0., 1., 0., 0., 0., 0., 1.,\n",
       "       0., 0., 0., 0., 1., 0., 0., 0., 1., 0., 0., 0., 0., 0., 1., 0., 0.,\n",
       "       0., 0., 1., 0., 0., 0., 1., 0., 0., 0., 0., 0., 1., 0., 0., 0., 1.,\n",
       "       0., 0., 0., 1., 0., 0., 0., 0., 0., 1., 0., 0., 0., 0., 0., 1., 0.,\n",
       "       0., 1., 0., 0., 0., 0., 1., 0., 0., 0., 0., 0., 0., 1., 0., 0., 0.,\n",
       "       0., 1., 0., 0., 0., 0., 1., 0., 0., 0., 0., 1., 0., 0., 0., 0., 0.,\n",
       "       1., 0., 0., 0., 0., 1., 0., 0., 0., 1., 0., 0., 0., 0., 0., 1., 0.,\n",
       "       0., 0., 1., 0., 0., 0., 0., 0., 1., 0., 0., 0., 0., 1., 0., 0., 1.,\n",
       "       0., 0., 0., 0., 0., 1., 0., 0., 0., 0., 0., 1.])"
      ]
     },
     "execution_count": 22,
     "metadata": {},
     "output_type": "execute_result"
    }
   ],
   "source": [
    "# To onehot-encode a datafile\n",
    "ipip_filename = \"ipip_ffm_recoded_int.csv\"\n",
    "ipip_csv = pd.read_csv(filepath_or_buffer = ipip_filename,\n",
    "                       header = None)\n",
    "enc = OneHotEncoder(categories = np.tile(np.array([[1,2,3,4,5]]), (ipip_csv.shape[1], 1)))\n",
    "ipip_csv = enc.fit_transform(ipip_csv).toarray()\n",
    "ipip_csv[0]"
   ]
  },
  {
   "cell_type": "code",
   "execution_count": 23,
   "metadata": {},
   "outputs": [
    {
     "data": {
      "text/html": [
       "<div>\n",
       "<style scoped>\n",
       "    .dataframe tbody tr th:only-of-type {\n",
       "        vertical-align: middle;\n",
       "    }\n",
       "\n",
       "    .dataframe tbody tr th {\n",
       "        vertical-align: top;\n",
       "    }\n",
       "\n",
       "    .dataframe thead th {\n",
       "        text-align: right;\n",
       "    }\n",
       "</style>\n",
       "<table border=\"1\" class=\"dataframe\">\n",
       "  <thead>\n",
       "    <tr style=\"text-align: right;\">\n",
       "      <th></th>\n",
       "      <th>0</th>\n",
       "      <th>1</th>\n",
       "      <th>2</th>\n",
       "      <th>3</th>\n",
       "      <th>4</th>\n",
       "      <th>5</th>\n",
       "      <th>6</th>\n",
       "      <th>7</th>\n",
       "      <th>8</th>\n",
       "      <th>9</th>\n",
       "      <th>...</th>\n",
       "      <th>40</th>\n",
       "      <th>41</th>\n",
       "      <th>42</th>\n",
       "      <th>43</th>\n",
       "      <th>44</th>\n",
       "      <th>45</th>\n",
       "      <th>46</th>\n",
       "      <th>47</th>\n",
       "      <th>48</th>\n",
       "      <th>49</th>\n",
       "    </tr>\n",
       "  </thead>\n",
       "  <tbody>\n",
       "    <tr>\n",
       "      <th>0</th>\n",
       "      <td>3.0</td>\n",
       "      <td>4.0</td>\n",
       "      <td>4.0</td>\n",
       "      <td>3.0</td>\n",
       "      <td>4.0</td>\n",
       "      <td>4.0</td>\n",
       "      <td>4.0</td>\n",
       "      <td>3.0</td>\n",
       "      <td>3.0</td>\n",
       "      <td>4.0</td>\n",
       "      <td>...</td>\n",
       "      <td>4.0</td>\n",
       "      <td>4.0</td>\n",
       "      <td>3.0</td>\n",
       "      <td>4.0</td>\n",
       "      <td>3.0</td>\n",
       "      <td>4.0</td>\n",
       "      <td>4.0</td>\n",
       "      <td>2.0</td>\n",
       "      <td>3.0</td>\n",
       "      <td>4.0</td>\n",
       "    </tr>\n",
       "    <tr>\n",
       "      <th>1</th>\n",
       "      <td>2.0</td>\n",
       "      <td>0.0</td>\n",
       "      <td>2.0</td>\n",
       "      <td>1.0</td>\n",
       "      <td>2.0</td>\n",
       "      <td>2.0</td>\n",
       "      <td>1.0</td>\n",
       "      <td>0.0</td>\n",
       "      <td>0.0</td>\n",
       "      <td>0.0</td>\n",
       "      <td>...</td>\n",
       "      <td>0.0</td>\n",
       "      <td>3.0</td>\n",
       "      <td>3.0</td>\n",
       "      <td>3.0</td>\n",
       "      <td>2.0</td>\n",
       "      <td>4.0</td>\n",
       "      <td>3.0</td>\n",
       "      <td>1.0</td>\n",
       "      <td>4.0</td>\n",
       "      <td>2.0</td>\n",
       "    </tr>\n",
       "    <tr>\n",
       "      <th>2</th>\n",
       "      <td>1.0</td>\n",
       "      <td>2.0</td>\n",
       "      <td>3.0</td>\n",
       "      <td>1.0</td>\n",
       "      <td>2.0</td>\n",
       "      <td>3.0</td>\n",
       "      <td>0.0</td>\n",
       "      <td>2.0</td>\n",
       "      <td>1.0</td>\n",
       "      <td>0.0</td>\n",
       "      <td>...</td>\n",
       "      <td>4.0</td>\n",
       "      <td>4.0</td>\n",
       "      <td>1.0</td>\n",
       "      <td>4.0</td>\n",
       "      <td>3.0</td>\n",
       "      <td>3.0</td>\n",
       "      <td>4.0</td>\n",
       "      <td>2.0</td>\n",
       "      <td>3.0</td>\n",
       "      <td>3.0</td>\n",
       "    </tr>\n",
       "    <tr>\n",
       "      <th>3</th>\n",
       "      <td>1.0</td>\n",
       "      <td>3.0</td>\n",
       "      <td>1.0</td>\n",
       "      <td>2.0</td>\n",
       "      <td>3.0</td>\n",
       "      <td>3.0</td>\n",
       "      <td>1.0</td>\n",
       "      <td>1.0</td>\n",
       "      <td>0.0</td>\n",
       "      <td>1.0</td>\n",
       "      <td>...</td>\n",
       "      <td>3.0</td>\n",
       "      <td>3.0</td>\n",
       "      <td>4.0</td>\n",
       "      <td>3.0</td>\n",
       "      <td>2.0</td>\n",
       "      <td>4.0</td>\n",
       "      <td>3.0</td>\n",
       "      <td>3.0</td>\n",
       "      <td>2.0</td>\n",
       "      <td>2.0</td>\n",
       "    </tr>\n",
       "    <tr>\n",
       "      <th>4</th>\n",
       "      <td>2.0</td>\n",
       "      <td>2.0</td>\n",
       "      <td>3.0</td>\n",
       "      <td>3.0</td>\n",
       "      <td>3.0</td>\n",
       "      <td>3.0</td>\n",
       "      <td>1.0</td>\n",
       "      <td>2.0</td>\n",
       "      <td>2.0</td>\n",
       "      <td>1.0</td>\n",
       "      <td>...</td>\n",
       "      <td>4.0</td>\n",
       "      <td>4.0</td>\n",
       "      <td>4.0</td>\n",
       "      <td>4.0</td>\n",
       "      <td>2.0</td>\n",
       "      <td>4.0</td>\n",
       "      <td>4.0</td>\n",
       "      <td>3.0</td>\n",
       "      <td>4.0</td>\n",
       "      <td>1.0</td>\n",
       "    </tr>\n",
       "  </tbody>\n",
       "</table>\n",
       "<p>5 rows × 50 columns</p>\n",
       "</div>"
      ],
      "text/plain": [
       "    0    1    2    3    4    5    6    7    8    9   ...   40   41   42   43  \\\n",
       "0  3.0  4.0  4.0  3.0  4.0  4.0  4.0  3.0  3.0  4.0  ...  4.0  4.0  3.0  4.0   \n",
       "1  2.0  0.0  2.0  1.0  2.0  2.0  1.0  0.0  0.0  0.0  ...  0.0  3.0  3.0  3.0   \n",
       "2  1.0  2.0  3.0  1.0  2.0  3.0  0.0  2.0  1.0  0.0  ...  4.0  4.0  1.0  4.0   \n",
       "3  1.0  3.0  1.0  2.0  3.0  3.0  1.0  1.0  0.0  1.0  ...  3.0  3.0  4.0  3.0   \n",
       "4  2.0  2.0  3.0  3.0  3.0  3.0  1.0  2.0  2.0  1.0  ...  4.0  4.0  4.0  4.0   \n",
       "\n",
       "    44   45   46   47   48   49  \n",
       "0  3.0  4.0  4.0  2.0  3.0  4.0  \n",
       "1  2.0  4.0  3.0  1.0  4.0  2.0  \n",
       "2  3.0  3.0  4.0  2.0  3.0  3.0  \n",
       "3  2.0  4.0  3.0  3.0  2.0  2.0  \n",
       "4  2.0  4.0  4.0  3.0  4.0  1.0  \n",
       "\n",
       "[5 rows x 50 columns]"
      ]
     },
     "execution_count": 23,
     "metadata": {},
     "output_type": "execute_result"
    }
   ],
   "source": [
    "## Start here to read in an integer-encoded datafile\n",
    "ipip_filename = \"ipip_ffm_recoded_int.csv\"\n",
    "csv_data = pd.read_csv(ipip_filename, sep = \",\", header = None)\n",
    "# Shift all data values from 1-5 scale to 0-4 scale\n",
    "csv_data = csv_data.subtract(1)\n",
    "csv_data.head()"
   ]
  },
  {
   "cell_type": "code",
   "execution_count": 26,
   "metadata": {},
   "outputs": [
    {
     "name": "stdout",
     "output_type": "stream",
     "text": [
      "Starting fitting for P = 1<class 'pandas.core.frame.DataFrame'>\n",
      "Model fitted for P = 1 , run time = 35.26 seconds    0    1    2    3    4    5    6    7    8    9   ...   40   41   42   43  \\\n",
      "0  4.0  3.0  2.0  3.0  3.0  3.0  3.0  2.0  2.0  2.0  ...  2.0  2.0  2.0  2.0   \n",
      "1  0.0  2.0  1.0  1.0  2.0  3.0  0.0  0.0  1.0  0.0  ...  4.0  4.0  4.0  4.0   \n",
      "2  3.0  1.0  4.0  1.0  1.0  1.0  3.0  1.0  4.0  1.0  ...  3.0  3.0  3.0  4.0   \n",
      "3  0.0  3.0  2.0  3.0  2.0  4.0  2.0  0.0  0.0  2.0  ...  3.0  3.0  2.0  4.0   \n",
      "4  0.0  3.0  1.0  2.0  2.0  3.0  0.0  1.0  1.0  1.0  ...  4.0  3.0  3.0  3.0   \n",
      "\n",
      "    44   45   46   47   48   49  \n",
      "0  2.0  2.0  3.0  1.0  4.0  2.0  \n",
      "1  3.0  4.0  3.0  3.0  4.0  4.0  \n",
      "2  3.0  3.0  4.0  2.0  4.0  3.0  \n",
      "3  4.0  4.0  3.0  2.0  4.0  3.0  \n",
      "4  4.0  4.0  4.0  4.0  3.0  4.0  \n",
      "\n",
      "[5 rows x 50 columns]\n",
      "\n",
      "Computing approx. LL\n",
      "Approx. LL computed in 8.66 seconds\n",
      "Starting fitting for P = 2<class 'pandas.core.frame.DataFrame'>\n",
      "Model fitted for P = 2 , run time = 54.12 seconds    0    1    2    3    4    5    6    7    8    9   ...   40   41   42   43  \\\n",
      "0  4.0  3.0  2.0  3.0  3.0  3.0  3.0  2.0  2.0  2.0  ...  2.0  2.0  2.0  2.0   \n",
      "1  0.0  2.0  1.0  1.0  2.0  3.0  0.0  0.0  1.0  0.0  ...  4.0  4.0  4.0  4.0   \n",
      "2  3.0  1.0  4.0  1.0  1.0  1.0  3.0  1.0  4.0  1.0  ...  3.0  3.0  3.0  4.0   \n",
      "3  0.0  3.0  2.0  3.0  2.0  4.0  2.0  0.0  0.0  2.0  ...  3.0  3.0  2.0  4.0   \n",
      "4  0.0  3.0  1.0  2.0  2.0  3.0  0.0  1.0  1.0  1.0  ...  4.0  3.0  3.0  3.0   \n",
      "\n",
      "    44   45   46   47   48   49  \n",
      "0  2.0  2.0  3.0  1.0  4.0  2.0  \n",
      "1  3.0  4.0  3.0  3.0  4.0  4.0  \n",
      "2  3.0  3.0  4.0  2.0  4.0  3.0  \n",
      "3  4.0  4.0  3.0  2.0  4.0  3.0  \n",
      "4  4.0  4.0  4.0  4.0  3.0  4.0  \n",
      "\n",
      "[5 rows x 50 columns]\n",
      "\n",
      "Computing approx. LL\n",
      "Approx. LL computed in 9.76 seconds\n",
      "\n",
      "\n",
      "Latent dimension = 1 Approx. LL = -3506830.7\n",
      "Latent dimension = 2 Approx. LL = -3384600.17\n"
     ]
    },
    {
     "name": "stderr",
     "output_type": "stream",
     "text": [
      "/Users/sharahe/Documents/GitHub/DeepIRTools/mirt_vae.py:511: UserWarning: Matplotlib is currently using module://matplotlib_inline.backend_inline, which is a non-GUI backend, so cannot show the figure.\n",
      "  fig.show()\n"
     ]
    },
    {
     "data": {
      "image/png": "[encoded data removed]",
      "text/plain": [
       "<Figure size 360x360 with 1 Axes>"
      ]
     },
     "metadata": {
      "needs_background": "light"
     },
     "output_type": "display_data"
    }
   ],
   "source": [
    "# Extract log likelihood\n",
    "log_likelihoods = screeplot(latent_dims = [1, 2],\n",
    "                            csv_data = csv_data,\n",
    "                            categories = np.tile(np.array([[1,2,3,4,5]]), (csv_data.shape[1], 1)),\n",
    "                            n_cats = [5] * csv_data.shape[1],\n",
    "                            device = device,\n",
    "                            which_split = \"full\",\n",
    "                            test_size = .1,\n",
    "                            iw_samples_bic = 100,\n",
    "                            title = \"Approximate Log-Likelihood Plot for IPIP-FFM Data\")\n"
   ]
  },
  {
   "cell_type": "code",
   "execution_count": 27,
   "metadata": {},
   "outputs": [
    {
     "name": "stdout",
     "output_type": "stream",
     "text": [
      "Rotated loadings computed in 0.02 seconds    0    1    2    3    4    5    6    7    8    9   ...   40   41   42   43  \\\n",
      "0  3.0  4.0  4.0  3.0  4.0  4.0  4.0  3.0  3.0  4.0  ...  4.0  4.0  3.0  4.0   \n",
      "1  2.0  0.0  2.0  1.0  2.0  2.0  1.0  0.0  0.0  0.0  ...  0.0  3.0  3.0  3.0   \n",
      "2  1.0  2.0  3.0  1.0  2.0  3.0  0.0  2.0  1.0  0.0  ...  4.0  4.0  1.0  4.0   \n",
      "3  1.0  3.0  1.0  2.0  3.0  3.0  1.0  1.0  0.0  1.0  ...  3.0  3.0  4.0  3.0   \n",
      "4  2.0  2.0  3.0  3.0  3.0  3.0  1.0  2.0  2.0  1.0  ...  4.0  4.0  4.0  4.0   \n",
      "\n",
      "    44   45   46   47   48   49  \n",
      "0  3.0  4.0  4.0  2.0  3.0  4.0  \n",
      "1  2.0  4.0  3.0  1.0  4.0  2.0  \n",
      "2  3.0  3.0  4.0  2.0  3.0  3.0  \n",
      "3  2.0  4.0  3.0  3.0  2.0  2.0  \n",
      "4  2.0  4.0  4.0  3.0  4.0  1.0  \n",
      "\n",
      "[5 rows x 50 columns]\n",
      "\n",
      "Computing approx. LL\n",
      "Approx. LL computed in 100.98 seconds\n"
     ]
    }
   ],
   "source": [
    "# Set random seeds.\n",
    "seed = 1\n",
    "\n",
    "# sets the seed for generating random numbers\n",
    "torch.manual_seed(seed)\n",
    "np.random.seed(seed)\n",
    "\n",
    "# Initialize model.\n",
    "print(\"\\rStarting fitting\", end=\"\")\n",
    "sys.stdout.flush()\n",
    "\n",
    "# starting the timer to count how much time is taken to run code\n",
    "start = timeit.default_timer()\n",
    "ipip_vae = MIRTVAEClass(input_dim = csv_data.shape[1], # number of columns in binarized data matrix\n",
    "                        inference_model_dims = [int(np.ceil(csv_data.shape[1]/2))], # list of neural network hidden layer sizes\n",
    "                        latent_dim = 5, # refers to the output num of dimensions after encoding\n",
    "                        n_cats = [5] * 50, # list of number of categories for each item (because it's a range 1-5)\n",
    "                        learning_rate = 5e-3, # rate at which the model learns \n",
    "                        device = device,\n",
    "                        log_interval = ipip_log_interval,\n",
    "                        steps_anneal = 1000)\n",
    "\n",
    "\"\"\"\n",
    "Fit model.\n",
    "Note: iw_samples can be increased to improve the approximation to the MMLE.\n",
    "As described in the paper, iw_samples = 5 seems to perform well in practice.\n",
    "\"\"\"\n",
    "\n",
    "\n",
    "# run training on the full dataloader and test loader\n",
    "categories = np.tile(np.array([[1,2,3,4,5]]), (csv_data.shape[1], 1))\n",
    "ipip_vae.run_training(csv_data, categories, iw_samples = 5)\n",
    "\n",
    "# stopping timer\n",
    "stop = timeit.default_timer()\n",
    "run_time = stop - start\n",
    "print(\"\\rFitting completed in\", round(run_time, 2), \"seconds\", end =\"\")\n",
    "sys.stdout.flush()\n",
    "\n",
    "# Extract estimated loadings and intercepts.\n",
    "loadings = ipip_vae.get_unrotated_loadings\n",
    "intercepts = ipip_vae.get_intercepts\n",
    "\"\"\"\n",
    "Rotate loadings and extract factor correlations.\n",
    "Note: In the paper I used geomin rotation, whereas here I use oblimin.\n",
    "\"\"\"\n",
    "rot_loadings, cor_mat = get_rotated_loadings(loadings = loadings, method = \"oblimin\")\n",
    "\n",
    "\"\"\"\n",
    "Compute approximate log-likelihood.\n",
    "Note: This computation can be sped up or slowed down by decreasing or increasing\n",
    "iw_samples, respectively. In the paper, I set iw_samples = 5000. \n",
    "\"\"\"\n",
    "\n",
    "ll = ipip_vae.bic(csv_data,\n",
    "                  iw_samples = 100)[1]\n"
   ]
  },
  {
   "cell_type": "code",
   "execution_count": 28,
   "metadata": {},
   "outputs": [
    {
     "name": "stdout",
     "output_type": "stream",
     "text": [
      "[[ 1.         -0.01359453 -0.07359794 -0.20785406  0.25223645]\n",
      " [-0.01359453  1.         -0.10665064 -0.20056195  0.0763393 ]\n",
      " [-0.07359794 -0.10665064  1.          0.14528547 -0.00930019]\n",
      " [-0.20785406 -0.20056195  0.14528547  1.         -0.05259341]\n",
      " [ 0.25223645  0.0763393  -0.00930019 -0.05259341  1.        ]]\n"
     ]
    }
   ],
   "source": [
    "print(cor_mat)"
   ]
  },
  {
   "cell_type": "code",
   "execution_count": 29,
   "metadata": {},
   "outputs": [
    {
     "data": {
      "image/png": "[encoded data removed]",
      "text/plain": [
       "<Figure size 432x288 with 2 Axes>"
      ]
     },
     "metadata": {
      "needs_background": "light"
     },
     "output_type": "display_data"
    }
   ],
   "source": [
    "loadings_heatmap(rot_loadings, loadings, x_label = \"Item Number\", y_label = \"Factor Number\", title = \"IPIP-FFM Factor Loadings\")"
   ]
  },
  {
   "cell_type": "code",
   "execution_count": 30,
   "metadata": {},
   "outputs": [
    {
     "name": "stdout",
     "output_type": "stream",
     "text": [
      "<class 'numpy.ndarray'>\n",
      "<class 'numpy.ndarray'>\n"
     ]
    }
   ],
   "source": [
    "#Testing Block \n",
    "print(type(rot_loadings))\n",
    "#print(rot_loadings)\n",
    "print(type(loadings))"
   ]
  },
  {
   "cell_type": "code",
   "execution_count": null,
   "metadata": {},
   "outputs": [],
   "source": []
  }
 ],
 "metadata": {
  "kernelspec": {
   "display_name": "Python 3 (ipykernel)",
   "language": "python",
   "name": "python3"
  },
  "language_info": {
   "codemirror_mode": {
    "name": "ipython",
    "version": 3
   },
   "file_extension": ".py",
   "mimetype": "text/x-python",
   "name": "python",
   "nbconvert_exporter": "python",
   "pygments_lexer": "ipython3",
   "version": "3.8.12"
  }
 },
 "nbformat": 4,
 "nbformat_minor": 4
}
