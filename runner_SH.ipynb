{
 "cells": [
  {
   "cell_type": "code",
   "execution_count": 18,
   "metadata": {},
   "outputs": [],
   "source": [
    "from __future__ import print_function\n",
    "# !pip install torch\n",
    "# !pip install torchvision\n",
    "import torch\n",
    "from torchvision import datasets, transforms\n",
    "import sys\n",
    "import timeit\n",
    "#!pip install factor_analyzer\n",
    "from factor_analyzer import Rotator # May need to be installed; see https://pypi.org/project/factor-analyzer/\n",
    "import matplotlib.pyplot as plt\n",
    "import matplotlib.backends.backend_pdf\n",
    "from pylab import *\n",
    "\n",
    "from utils import *\n",
    "from helper_layers import *\n",
    "from base_class import *\n",
    "from mirt_vae import *\n",
    "from read_data import *\n",
    "\n",
    "# Re-import some packages to reload functions without needing to restart the kernel. jupyter notebook doesn't update the files in the same kernel\n",
    "import sys, importlib\n",
    "importlib.reload(sys.modules[\"utils\"])\n",
    "importlib.reload(sys.modules[\"helper_layers\"])\n",
    "importlib.reload(sys.modules[\"base_class\"])\n",
    "importlib.reload(sys.modules[\"mirt_vae\"])\n",
    "importlib.reload(sys.modules[\"read_data\"])\n",
    "\n",
    "from utils import *\n",
    "from helper_layers import *\n",
    "from base_class import *\n",
    "from mirt_vae import *\n",
    "from read_data import *\n",
    "\n",
    "# Suppress scientific notation.\n",
    "np.set_printoptions(suppress = True)\n",
    "\n",
    "# Print full arrays.\n",
    "np.set_printoptions(threshold = sys.maxsize)\n",
    "\n",
    "# If CUDA is available, use it.\n",
    "cuda = torch.cuda.is_available()\n",
    "device = torch.device(\"cuda\" if cuda else \"cpu\")\n",
    "kwargs = {\"num_workers\" : 1, \"pin_memory\" : True} if cuda else {}\n",
    "\n",
    "# Set log interval.\n",
    "ipip_log_interval = 200"
   ]
  },
  {
   "cell_type": "code",
   "execution_count": 19,
   "metadata": {},
   "outputs": [
    {
     "name": "stderr",
     "output_type": "stream",
     "text": [
      "/Users/sharahe/opt/anaconda3/lib/python3.8/site-packages/sklearn/preprocessing/_encoders.py:76: FutureWarning: elementwise comparison failed; returning scalar instead, but in the future will perform elementwise comparison\n",
      "  if self.categories != 'auto':\n",
      "/Users/sharahe/opt/anaconda3/lib/python3.8/site-packages/sklearn/preprocessing/_encoders.py:85: FutureWarning: elementwise comparison failed; returning scalar instead, but in the future will perform elementwise comparison\n",
      "  if self.categories == 'auto':\n",
      "/Users/sharahe/opt/anaconda3/lib/python3.8/site-packages/sklearn/preprocessing/_encoders.py:76: FutureWarning: elementwise comparison failed; returning scalar instead, but in the future will perform elementwise comparison\n",
      "  if self.categories != 'auto':\n",
      "/Users/sharahe/opt/anaconda3/lib/python3.8/site-packages/sklearn/preprocessing/_encoders.py:85: FutureWarning: elementwise comparison failed; returning scalar instead, but in the future will perform elementwise comparison\n",
      "  if self.categories == 'auto':\n",
      "/Users/sharahe/opt/anaconda3/lib/python3.8/site-packages/sklearn/preprocessing/_encoders.py:76: FutureWarning: elementwise comparison failed; returning scalar instead, but in the future will perform elementwise comparison\n",
      "  if self.categories != 'auto':\n",
      "/Users/sharahe/opt/anaconda3/lib/python3.8/site-packages/sklearn/preprocessing/_encoders.py:85: FutureWarning: elementwise comparison failed; returning scalar instead, but in the future will perform elementwise comparison\n",
      "  if self.categories == 'auto':\n"
     ]
    }
   ],
   "source": [
    "ipip_filename = \"ipip_ffm_recoded_int.csv\"\n",
    "# Python iterable over a dataset, loads data from dataset input, \n",
    "# yields batched samples instead of individual samples, \n",
    "# shuffled sampler automatically constructed\n",
    "\n",
    "# Full data set.\n",
    "ipip_loader = torch.utils.data.DataLoader(\n",
    "    csv_dataset(csv_file = ipip_filename,\n",
    "                which_split = \"full\",\n",
    "                csv_header = None,\n",
    "                categories = np.tile(np.array([[1,2,3,4,5]]), (50, 1))),\n",
    "    batch_size = 32, shuffle = True, **kwargs)\n",
    "\n",
    "# Test data set.\n",
    "ipip_test_loader = torch.utils.data.DataLoader(\n",
    "    csv_dataset(csv_file = ipip_filename,\n",
    "                which_split = \"test-only\",\n",
    "                test_size = 0.025,\n",
    "                \n",
    "                csv_header = None,\n",
    "                categories = np.tile(np.array([[1,2,3,4,5]]), (50, 1))),\n",
    "    batch_size = 32, shuffle = True, **kwargs)\n",
    "\n",
    "# Train data set.\n",
    "ipip_train_loader = torch.utils.data.DataLoader(\n",
    "    csv_dataset(csv_file = ipip_filename,\n",
    "                which_split = \"train-only\",\n",
    "                test_size = 0.025,\n",
    "               \n",
    "                csv_header = None,\n",
    "                categories = np.tile(np.array([[1,2,3,4,5]]), (50, 1))),\n",
    "    batch_size = 32, shuffle = True, **kwargs)"
   ]
  },
  {
   "cell_type": "code",
   "execution_count": 7,
   "metadata": {},
   "outputs": [
    {
     "name": "stdout",
     "output_type": "stream",
     "text": [
      "\n",
      "Starting fitting for P = 1\n",
      "Model fitted, run time = 90.22 seconds\n",
      "\n",
      "Computing approx. LL\n",
      "Approx. LL computed in 4.3 seconds\n",
      "Approx. LL stored, computed in 4.3 seconds\n",
      "\n",
      "Starting fitting for P = 2\n",
      "Model fitted, run time = 72.53 seconds\n",
      "\n",
      "Computing approx. LL\n",
      "Approx. LL computed in 4.6 seconds\n",
      "Approx. LL stored, computed in 4.6 seconds\n",
      "\n",
      "Starting fitting for P = 5\n",
      "Model fitted, run time = 92.81 seconds\n",
      "\n",
      "Computing approx. LL\n",
      "Approx. LL computed in 3.94 seconds\n",
      "Approx. LL stored, computed in 3.94 seconds\n",
      "\n",
      "Starting fitting for P = 7\n",
      "Model fitted, run time = 78.0 seconds\n",
      "\n",
      "Computing approx. LL\n",
      "Approx. LL computed in 4.07 seconds\n",
      "Approx. LL stored, computed in 4.07 seconds\n",
      "\n",
      "\n",
      "Latent dimension = 1 Approx. LL = -876751.04\n",
      "Latent dimension = 2 Approx. LL = -847538.67\n",
      "Latent dimension = 5 Approx. LL = -792280.77\n",
      "Latent dimension = 7 Approx. LL = -786566.7\n"
     ]
    },
    {
     "name": "stderr",
     "output_type": "stream",
     "text": [
      "/Users/sharahe/Desktop/School/GatesLab/deep_exploratory_ifa/mirt_vae.py:428: UserWarning: Matplotlib is currently using module://ipykernel.pylab.backend_inline, which is a non-GUI backend, so cannot show the figure.\n",
      "  fig.show()\n"
     ]
    },
    {
     "data": {
      "image/png": "[encoded data removed]",
      "text/plain": [
       "<Figure size 360x360 with 1 Axes>"
      ]
     },
     "metadata": {
      "needs_background": "light"
     },
     "output_type": "display_data"
    }
   ],
   "source": [
    "# Extract log likelihood\n",
    "log_likelihoods = screeplot(latent_dims = [1, 2, 5, 7],\n",
    "                            n_cats = [5] * 50,\n",
    "                            device = device,\n",
    "                            ipip_train_loader = ipip_train_loader, \n",
    "                            ipip_test_loader = ipip_test_loader,\n",
    "                            iw_samples_bic = 100,\n",
    "                            title = \"Approximate Log-Likelihood Plot for IPIP-FFM Data\")\n"
   ]
  },
  {
   "cell_type": "code",
   "execution_count": 20,
   "metadata": {},
   "outputs": [
    {
     "name": "stdout",
     "output_type": "stream",
     "text": [
      "\n",
      "Starting fitting\n",
      "Fitting completed in 67.08 seconds\n",
      "Rotated loadings computed in 0.01 seconds\n",
      "\n",
      "Computing approx. LL\n",
      "Approx. LL computed in 4.01 seconds\n"
     ]
    }
   ],
   "source": [
    "\n",
    "# Set random seeds.\n",
    "seed = 1\n",
    "# sets the seed for generating random numbers\n",
    "torch.manual_seed(seed)\n",
    "np.random.seed(seed)\n",
    "\n",
    "# Initialize model.\n",
    "print(\"\\nStarting fitting\")\n",
    "\n",
    "# starting the timer to count how much time is taken to run code\n",
    "start = timeit.default_timer()\n",
    "ipip_vae = MIRTVAEClass(input_dim = 250, # number of columns in binarized data matrix\n",
    "                        inference_model_dims = [130], # list of neural network hidden layer sizes\n",
    "                        latent_dim = 5, # refers to the output num of dimensions after encoding\n",
    "                        n_cats = [5] * 50, # list of number of categories for each item (because it's a range 1-5)\n",
    "                        learning_rate = 5e-3, # rate at which the model learns \n",
    "                        device = device,\n",
    "                        log_interval = ipip_log_interval,\n",
    "                        steps_anneal = 1000)\n",
    "\n",
    "\"\"\"\n",
    "Fit model.\n",
    "Note: iw_samples can be increased to improve the approximation to the MMLE.\n",
    "As described in the paper, iw_samples = 5 seems to perform well in practice.\n",
    "\"\"\"\n",
    "ipip_vae.run_training(ipip_loader, ipip_test_loader, iw_samples = 5) # run training on the full dataloader and test loader\n",
    "\n",
    "# stopping timer\n",
    "stop = timeit.default_timer()\n",
    "run_time = stop - start\n",
    "print(\"Fitting completed in\", round(run_time, 2), \"seconds\")\n",
    "\n",
    "# Extract estimated loadings and intercepts.\n",
    "# loadings = ipip_vae.model.loadings.weight.data.numpy()\n",
    "# intercepts = ipip_vae.model.intercepts.bias.data.numpy()\n",
    "loadings = ipip_vae.get_unrotated_loadings()\n",
    "intercepts = ipip_vae.get_intercepts()\n",
    "\"\"\"\n",
    "Rotate loadings and extract factor correlations.\n",
    "Note: In the paper I used geomin rotation, whereas here I use oblimin.\n",
    "\"\"\"\n",
    "rot_loadings, cor_mat = get_rotated_loadings(loadings = loadings, method = \"oblimin\")\n",
    "\n",
    "\"\"\"\n",
    "Compute approximate log-likelihood.\n",
    "Note: This computation can be sped up or slowed down by decreasing or increasing\n",
    "iw_samples, respectively. In the paper, I set iw_samples = 5000. \n",
    "\"\"\"\n",
    "\n",
    "ll = ipip_vae.bic(ipip_test_loader,\n",
    "                  iw_samples = 100)[1]\n"
   ]
  },
  {
   "cell_type": "code",
   "execution_count": 21,
   "metadata": {},
   "outputs": [
    {
     "name": "stdout",
     "output_type": "stream",
     "text": [
      "[[ 1.          0.17622388  0.04514159 -0.11101834 -0.00432812]\n",
      " [ 0.17622388  1.          0.19527661 -0.25311621 -0.08032342]\n",
      " [ 0.04514159  0.19527661  1.          0.0348355  -0.24435531]\n",
      " [-0.11101834 -0.25311621  0.0348355   1.          0.1187916 ]\n",
      " [-0.00432812 -0.08032342 -0.24435531  0.1187916   1.        ]]\n"
     ]
    }
   ],
   "source": [
    "print(cor_mat)"
   ]
  },
  {
   "cell_type": "code",
   "execution_count": 24,
   "metadata": {},
   "outputs": [
    {
     "data": {
      "image/png": "[encoded data removed]",
      "text/plain": [
       "<Figure size 432x288 with 2 Axes>"
      ]
     },
     "metadata": {
      "needs_background": "light"
     },
     "output_type": "display_data"
    }
   ],
   "source": [
    "loadings_heatmap(rot_loadings, loadings, x_label = \"Item Number\", y_label = \"Factor Number\", title = \"IPIP-FFM Factor Loadings\")"
   ]
  },
  {
   "cell_type": "code",
   "execution_count": null,
   "metadata": {},
   "outputs": [],
   "source": []
  }
 ],
 "metadata": {
  "kernelspec": {
   "display_name": "Python 3",
   "language": "python",
   "name": "python3"
  },
  "language_info": {
   "codemirror_mode": {
    "name": "ipython",
    "version": 3
   },
   "file_extension": ".py",
   "mimetype": "text/x-python",
   "name": "python",
   "nbconvert_exporter": "python",
   "pygments_lexer": "ipython3",
   "version": "3.8.1"
  }
 },
 "nbformat": 4,
 "nbformat_minor": 4
}
