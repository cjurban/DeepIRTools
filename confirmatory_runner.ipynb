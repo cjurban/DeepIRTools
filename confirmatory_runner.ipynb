{
 "cells": [
  {
   "cell_type": "markdown",
   "id": "d905ca68",
   "metadata": {},
   "source": [
    "# Confirmatory IFA Example"
   ]
  },
  {
   "cell_type": "code",
   "execution_count": 1,
   "id": "e3ab91f3",
   "metadata": {},
   "outputs": [
    {
     "data": {
      "text/plain": [
       "'https://openpsychometrics.org/_rawdata/IPIP-FFM-data-8Nov2018.zip'"
      ]
     },
     "execution_count": 1,
     "metadata": {},
     "output_type": "execute_result"
    }
   ],
   "source": [
    "from utils import *\n",
    "from figures import *\n",
    "\n",
    "import pandas as pd\n",
    "\n",
    "\"https://openpsychometrics.org/_rawdata/IPIP-FFM-data-8Nov2018.zip\""
   ]
  },
  {
   "cell_type": "markdown",
   "id": "a4b0569d",
   "metadata": {},
   "source": [
    "Here's an example with Q."
   ]
  },
  {
   "cell_type": "code",
   "execution_count": 2,
   "id": "de964508",
   "metadata": {},
   "outputs": [
    {
     "name": "stdout",
     "output_type": "stream",
     "text": [
      "\n",
      "Fitting started\n",
      "Epoch =       0 Iter. =  14301   Current mean loss = 62.41   Intervals no change = 100\n",
      "Fitting ended in  52.19  seconds\n",
      "\n",
      " tensor([[2.0400, 0.0000, 0.0000, 0.0000, 0.0000],\n",
      "        [2.1500, 0.0000, 0.0000, 0.0000, 0.0000],\n",
      "        [1.9400, 0.0000, 0.0000, 0.0000, 0.0000],\n",
      "        [2.6500, 0.0000, 0.0000, 0.0000, 0.0000],\n",
      "        [2.4500, 0.0000, 0.0000, 0.0000, 0.0000],\n",
      "        [1.5300, 0.0000, 0.0000, 0.0000, 0.0000],\n",
      "        [2.3500, 0.0000, 0.0000, 0.0000, 0.0000],\n",
      "        [1.6200, 0.0000, 0.0000, 0.0000, 0.0000],\n",
      "        [1.7400, 0.0000, 0.0000, 0.0000, 0.0000],\n",
      "        [2.3100, 0.0000, 0.0000, 0.0000, 0.0000],\n",
      "        [0.0000, 2.0500, 0.0000, 0.0000, 0.0000],\n",
      "        [0.0000, 1.4800, 0.0000, 0.0000, 0.0000],\n",
      "        [0.0000, 1.6900, 0.0000, 0.0000, 0.0000],\n",
      "        [0.0000, 1.2500, 0.0000, 0.0000, 0.0000],\n",
      "        [0.0000, 1.2500, 0.0000, 0.0000, 0.0000],\n",
      "        [0.0000, 2.4000, 0.0000, 0.0000, 0.0000],\n",
      "        [0.0000, 2.3200, 0.0000, 0.0000, 0.0000],\n",
      "        [0.0000, 2.6300, 0.0000, 0.0000, 0.0000],\n",
      "        [0.0000, 1.9400, 0.0000, 0.0000, 0.0000],\n",
      "        [0.0000, 1.8900, 0.0000, 0.0000, 0.0000],\n",
      "        [0.0000, 0.0000, 1.5200, 0.0000, 0.0000],\n",
      "        [0.0000, 0.0000, 1.5900, 0.0000, 0.0000],\n",
      "        [0.0000, 0.0000, 0.7700, 0.0000, 0.0000],\n",
      "        [0.0000, 0.0000, 2.8700, 0.0000, 0.0000],\n",
      "        [0.0000, 0.0000, 2.1300, 0.0000, 0.0000],\n",
      "        [0.0000, 0.0000, 1.4500, 0.0000, 0.0000],\n",
      "        [0.0000, 0.0000, 2.0000, 0.0000, 0.0000],\n",
      "        [0.0000, 0.0000, 1.5900, 0.0000, 0.0000],\n",
      "        [0.0000, 0.0000, 2.2100, 0.0000, 0.0000],\n",
      "        [0.0000, 0.0000, 1.0900, 0.0000, 0.0000],\n",
      "        [0.0000, 0.0000, 0.0000, 1.7200, 0.0000],\n",
      "        [0.0000, 0.0000, 0.0000, 1.5100, 0.0000],\n",
      "        [0.0000, 0.0000, 0.0000, 0.8700, 0.0000],\n",
      "        [0.0000, 0.0000, 0.0000, 1.6700, 0.0000],\n",
      "        [0.0000, 0.0000, 0.0000, 1.6800, 0.0000],\n",
      "        [0.0000, 0.0000, 0.0000, 1.8700, 0.0000],\n",
      "        [0.0000, 0.0000, 0.0000, 1.3900, 0.0000],\n",
      "        [0.0000, 0.0000, 0.0000, 1.2800, 0.0000],\n",
      "        [0.0000, 0.0000, 0.0000, 1.5300, 0.0000],\n",
      "        [0.0000, 0.0000, 0.0000, 1.0300, 0.0000],\n",
      "        [0.0000, 0.0000, 0.0000, 0.0000, 1.3800],\n",
      "        [0.0000, 0.0000, 0.0000, 0.0000, 1.5700],\n",
      "        [0.0000, 0.0000, 0.0000, 0.0000, 1.4600],\n",
      "        [0.0000, 0.0000, 0.0000, 0.0000, 1.3800],\n",
      "        [0.0000, 0.0000, 0.0000, 0.0000, 1.6500],\n",
      "        [0.0000, 0.0000, 0.0000, 0.0000, 1.6100],\n",
      "        [0.0000, 0.0000, 0.0000, 0.0000, 1.1400],\n",
      "        [0.0000, 0.0000, 0.0000, 0.0000, 1.2100],\n",
      "        [0.0000, 0.0000, 0.0000, 0.0000, 0.8400],\n",
      "        [0.0000, 0.0000, 0.0000, 0.0000, 2.1600]])\n"
     ]
    }
   ],
   "source": [
    "data = pd.read_csv(\"ipip_ffm_recoded_int.csv\", sep = \",\", header = None)\n",
    "data = torch.from_numpy(data.to_numpy())\n",
    "data -= 1.\n",
    "n_items = data.shape[1]\n",
    "\n",
    "Q = torch.block_diag(*[torch.ones([10, 1])] * 5)\n",
    "\n",
    "model = ImportanceWeightedEstimator(learning_rate = 5e-3,\n",
    "                                    device = \"cpu\",\n",
    "                                    log_interval = 100,\n",
    "                                    Q = Q,\n",
    "                                    inference_net_sizes = [100],\n",
    "                                    latent_size = 5,\n",
    "                                    n_cats = [5] * n_items,\n",
    "                                   )\n",
    "model.fit(data, iw_samples=5)\n",
    "\n",
    "print(\"\\n\", np.around(model.loadings, 2))"
   ]
  },
  {
   "cell_type": "markdown",
   "id": "1c807774",
   "metadata": {},
   "source": [
    "Here's an example with A and b."
   ]
  },
  {
   "cell_type": "code",
   "execution_count": null,
   "id": "61bd39ce",
   "metadata": {},
   "outputs": [],
   "source": [
    "constraint_ls = ([torch.zeros(1), torch.eye(9), torch.zeros([n_items, n_items]),\n",
    "                  torch.zeros(1), torch.eye(9), torch.zeros([n_items, n_items]),\n",
    "                  torch.zeros(1), torch.eye(9), torch.zeros([n_items, n_items]),\n",
    "                  torch.zeros(1), torch.eye(9), torch.zeros([n_items, n_items]),\n",
    "                  torch.zeros(1), torch.eye(9)])\n",
    "A = torch.block_diag(*constraint_ls)\n",
    "b = torch.cat(([torch.ones([1]), torch.zeros([9 + n_items]),\n",
    "                torch.ones([1]), torch.zeros([9 + n_items]),\n",
    "                torch.ones([1]), torch.zeros([9 + n_items]),\n",
    "                torch.ones([1]), torch.zeros([9 + n_items]),\n",
    "                torch.ones([1]), torch.zeros([9])]), dim=0)\n",
    "\n",
    "model = ImportanceWeightedEstimator(input_size = n_items,\n",
    "                                    inference_net_sizes = [100],\n",
    "                                    latent_size = 5,\n",
    "                                    n_cats = [5] * n_items,\n",
    "                                    learning_rate = 5e-3,\n",
    "                                    A = A,\n",
    "                                    b = b,\n",
    "                                    device = \"cpu\",\n",
    "                                    log_interval = 100,\n",
    "                                    fixed_variances = False,\n",
    "                                    correlated_factors = [0, 1, 2],\n",
    "                                   )\n",
    "model.fit(data, iw_samples=5)\n",
    "\n",
    "# Same structure as Q example, but I fixed the first loading on each factor to 1.\n",
    "print(\"\\n\", np.around(model.loadings, 2))"
   ]
  }
 ],
 "metadata": {
  "kernelspec": {
   "display_name": "Python 3 (ipykernel)",
   "language": "python",
   "name": "python3"
  },
  "language_info": {
   "codemirror_mode": {
    "name": "ipython",
    "version": 3
   },
   "file_extension": ".py",
   "mimetype": "text/x-python",
   "name": "python",
   "nbconvert_exporter": "python",
   "pygments_lexer": "ipython3",
   "version": "3.9.7"
  }
 },
 "nbformat": 4,
 "nbformat_minor": 5
}
