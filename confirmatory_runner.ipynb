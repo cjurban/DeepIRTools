{
 "cells": [
  {
   "cell_type": "markdown",
   "id": "d905ca68",
   "metadata": {},
   "source": [
    "# Confirmatory IFA Example"
   ]
  },
  {
   "cell_type": "code",
   "execution_count": 1,
   "id": "e3ab91f3",
   "metadata": {},
   "outputs": [],
   "source": [
    "from utils import *\n",
    "from helper_layers import *\n",
    "from base_class import *\n",
    "from mirt_vae import *\n",
    "from read_data import *"
   ]
  },
  {
   "cell_type": "markdown",
   "id": "a4b0569d",
   "metadata": {},
   "source": [
    "Here's an example with Q."
   ]
  },
  {
   "cell_type": "code",
   "execution_count": 2,
   "id": "de964508",
   "metadata": {},
   "outputs": [
    {
     "name": "stdout",
     "output_type": "stream",
     "text": [
      "Epoch =       1 Iter. =  20701   Current mean loss = 63.48   Intervals no change = 100\n",
      " [[ 1.92 -0.    0.    0.   -0.  ]\n",
      " [ 2.02  0.   -0.   -0.   -0.  ]\n",
      " [ 1.86 -0.   -0.   -0.    0.  ]\n",
      " [ 2.43  0.    0.    0.    0.  ]\n",
      " [ 2.33 -0.   -0.   -0.   -0.  ]\n",
      " [ 1.45  0.   -0.   -0.   -0.  ]\n",
      " [ 2.16 -0.   -0.    0.   -0.  ]\n",
      " [ 1.54  0.    0.    0.   -0.  ]\n",
      " [ 1.63 -0.    0.    0.   -0.  ]\n",
      " [ 2.16 -0.    0.   -0.    0.  ]\n",
      " [-0.    1.94 -0.   -0.    0.  ]\n",
      " [ 0.    1.43 -0.   -0.    0.  ]\n",
      " [-0.    1.56 -0.   -0.   -0.  ]\n",
      " [-0.    1.1  -0.    0.    0.  ]\n",
      " [ 0.    1.17  0.    0.    0.  ]\n",
      " [-0.    2.22  0.    0.    0.  ]\n",
      " [ 0.    2.15 -0.    0.   -0.  ]\n",
      " [ 0.    2.42  0.    0.   -0.  ]\n",
      " [-0.    1.8   0.   -0.    0.  ]\n",
      " [-0.    1.79  0.    0.   -0.  ]\n",
      " [ 0.    0.   -1.36 -0.   -0.  ]\n",
      " [ 0.   -0.   -1.54  0.   -0.  ]\n",
      " [-0.   -0.   -0.72 -0.    0.  ]\n",
      " [-0.    0.   -2.57  0.    0.  ]\n",
      " [ 0.    0.   -1.91  0.    0.  ]\n",
      " [-0.    0.   -1.3   0.    0.  ]\n",
      " [ 0.   -0.   -1.89  0.   -0.  ]\n",
      " [ 0.   -0.   -1.41 -0.   -0.  ]\n",
      " [ 0.    0.   -2.    0.   -0.  ]\n",
      " [ 0.   -0.   -1.   -0.   -0.  ]\n",
      " [-0.    0.    0.   -1.59 -0.  ]\n",
      " [-0.   -0.    0.   -1.46  0.  ]\n",
      " [-0.    0.   -0.   -0.79 -0.  ]\n",
      " [ 0.   -0.   -0.   -1.51 -0.  ]\n",
      " [ 0.    0.    0.   -1.6   0.  ]\n",
      " [-0.   -0.    0.   -1.72  0.  ]\n",
      " [-0.    0.    0.   -1.3   0.  ]\n",
      " [ 0.   -0.   -0.   -1.26 -0.  ]\n",
      " [ 0.    0.   -0.   -1.42  0.  ]\n",
      " [ 0.    0.   -0.   -0.95 -0.  ]\n",
      " [ 0.   -0.   -0.   -0.   -1.22]\n",
      " [ 0.   -0.    0.    0.   -1.51]\n",
      " [-0.    0.   -0.    0.   -1.34]\n",
      " [-0.    0.   -0.    0.   -1.3 ]\n",
      " [ 0.   -0.   -0.   -0.   -1.59]\n",
      " [ 0.   -0.   -0.    0.   -1.39]\n",
      " [-0.   -0.    0.   -0.   -1.04]\n",
      " [ 0.    0.    0.    0.   -1.07]\n",
      " [-0.    0.   -0.   -0.   -0.76]\n",
      " [ 0.   -0.   -0.    0.   -2.02]]\n"
     ]
    }
   ],
   "source": [
    "data = pd.read_csv(\"ipip_ffm_recoded_int.csv\", sep = \",\", header = None)\n",
    "data -= 1.\n",
    "n_items = data.shape[1]\n",
    "categories = np.tile(np.array([[1,2,3,4,5]]), (n_items, 1)) # what's this for again? seems extra\n",
    "\n",
    "Q = torch.block_diag(*[torch.ones([10, 1])] * 5)\n",
    "\n",
    "model = MIRTVAEClass(input_dim = n_items,\n",
    "                     inference_model_dims = [100],\n",
    "                     latent_dim = 5,\n",
    "                     n_cats = [5] * n_items,\n",
    "                     learning_rate = 5e-3,\n",
    "                     Q = Q,\n",
    "                     device = \"cpu\",\n",
    "                     log_interval = 100)\n",
    "model.run_training(data, categories)\n",
    "\n",
    "print(\"\\n\", np.around(model.get_unrotated_loadings, 2)) # change to just model.loadings and model.intercepts"
   ]
  },
  {
   "cell_type": "markdown",
   "id": "1c807774",
   "metadata": {},
   "source": [
    "Here's an example with A and b."
   ]
  },
  {
   "cell_type": "code",
   "execution_count": 3,
   "id": "61bd39ce",
   "metadata": {},
   "outputs": [
    {
     "name": "stdout",
     "output_type": "stream",
     "text": [
      "Epoch =       1 Iter. =  25501   Current mean loss = 63.34   Intervals no change = 100\n",
      " [[1.   0.   0.   0.   0.  ]\n",
      " [1.92 0.   0.   0.   0.  ]\n",
      " [1.78 0.   0.   0.   0.  ]\n",
      " [2.35 0.   0.   0.   0.  ]\n",
      " [2.27 0.   0.   0.   0.  ]\n",
      " [1.39 0.   0.   0.   0.  ]\n",
      " [2.03 0.   0.   0.   0.  ]\n",
      " [1.53 0.   0.   0.   0.  ]\n",
      " [1.57 0.   0.   0.   0.  ]\n",
      " [2.06 0.   0.   0.   0.  ]\n",
      " [0.   1.   0.   0.   0.  ]\n",
      " [0.   1.29 0.   0.   0.  ]\n",
      " [0.   1.4  0.   0.   0.  ]\n",
      " [0.   1.07 0.   0.   0.  ]\n",
      " [0.   1.1  0.   0.   0.  ]\n",
      " [0.   2.03 0.   0.   0.  ]\n",
      " [0.   2.21 0.   0.   0.  ]\n",
      " [0.   2.49 0.   0.   0.  ]\n",
      " [0.   1.67 0.   0.   0.  ]\n",
      " [0.   1.68 0.   0.   0.  ]\n",
      " [0.   0.   1.   0.   0.  ]\n",
      " [0.   0.   1.46 0.   0.  ]\n",
      " [0.   0.   0.69 0.   0.  ]\n",
      " [0.   0.   2.5  0.   0.  ]\n",
      " [0.   0.   1.87 0.   0.  ]\n",
      " [0.   0.   1.3  0.   0.  ]\n",
      " [0.   0.   1.88 0.   0.  ]\n",
      " [0.   0.   1.4  0.   0.  ]\n",
      " [0.   0.   1.96 0.   0.  ]\n",
      " [0.   0.   0.98 0.   0.  ]\n",
      " [0.   0.   0.   1.   0.  ]\n",
      " [0.   0.   0.   1.47 0.  ]\n",
      " [0.   0.   0.   0.78 0.  ]\n",
      " [0.   0.   0.   1.57 0.  ]\n",
      " [0.   0.   0.   1.58 0.  ]\n",
      " [0.   0.   0.   1.79 0.  ]\n",
      " [0.   0.   0.   1.25 0.  ]\n",
      " [0.   0.   0.   1.16 0.  ]\n",
      " [0.   0.   0.   1.36 0.  ]\n",
      " [0.   0.   0.   0.91 0.  ]\n",
      " [0.   0.   0.   0.   1.  ]\n",
      " [0.   0.   0.   0.   1.41]\n",
      " [0.   0.   0.   0.   1.32]\n",
      " [0.   0.   0.   0.   1.3 ]\n",
      " [0.   0.   0.   0.   1.57]\n",
      " [0.   0.   0.   0.   1.42]\n",
      " [0.   0.   0.   0.   1.03]\n",
      " [0.   0.   0.   0.   1.07]\n",
      " [0.   0.   0.   0.   0.72]\n",
      " [0.   0.   0.   0.   2.  ]]\n"
     ]
    }
   ],
   "source": [
    "constraint_ls = ([torch.zeros(1), torch.eye(9), torch.zeros([n_items, n_items]),\n",
    "                  torch.zeros(1), torch.eye(9), torch.zeros([n_items, n_items]),\n",
    "                  torch.zeros(1), torch.eye(9), torch.zeros([n_items, n_items]),\n",
    "                  torch.zeros(1), torch.eye(9), torch.zeros([n_items, n_items]),\n",
    "                  torch.zeros(1), torch.eye(9)])\n",
    "A = torch.block_diag(*constraint_ls)\n",
    "b = torch.cat(([torch.ones([1]), torch.zeros([9 + n_items]),\n",
    "                torch.ones([1]), torch.zeros([9 + n_items]),\n",
    "                torch.ones([1]), torch.zeros([9 + n_items]),\n",
    "                torch.ones([1]), torch.zeros([9 + n_items]),\n",
    "                torch.ones([1]), torch.zeros([9])]), dim=0)\n",
    "\n",
    "model = MIRTVAEClass(input_dim = n_items,\n",
    "                     inference_model_dims = [100],\n",
    "                     latent_dim = 5,\n",
    "                     n_cats = [5] * n_items,\n",
    "                     learning_rate = 5e-3,\n",
    "                     A = A,\n",
    "                     b = b,\n",
    "                     device = \"cpu\",\n",
    "                     log_interval = 50)\n",
    "model.run_training(data, categories)\n",
    "\n",
    "# Same structure as Q example, but I fixed the first loading on each factor to 1.\n",
    "print(\"\\n\", np.around(model.get_unrotated_loadings, 2))"
   ]
  }
 ],
 "metadata": {
  "kernelspec": {
   "display_name": "Python 3 (ipykernel)",
   "language": "python",
   "name": "python3"
  },
  "language_info": {
   "codemirror_mode": {
    "name": "ipython",
    "version": 3
   },
   "file_extension": ".py",
   "mimetype": "text/x-python",
   "name": "python",
   "nbconvert_exporter": "python",
   "pygments_lexer": "ipython3",
   "version": "3.8.12"
  }
 },
 "nbformat": 4,
 "nbformat_minor": 5
}
