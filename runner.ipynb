{
 "cells": [
  {
   "cell_type": "markdown",
   "metadata": {},
   "source": [
    "#  Jupyter Notebook for *A Deep Learning Algorithm for High-Dimensional Exploratory Item Factor Analysis*\n",
    "\n",
    "## Code Author: Christopher J. Urban"
   ]
  },
  {
   "cell_type": "markdown",
   "metadata": {},
   "source": [
    "This notebook is for conducting amortized importance-weighted variational inference for exploratory item factor analysis.\n",
    "\n",
    "First, we'll import packages and set some runtime parameters."
   ]
  },
  {
   "cell_type": "code",
   "execution_count": 36,
   "metadata": {},
   "outputs": [],
   "source": [
    "from __future__ import print_function\n",
    "# !pip install torch\n",
    "# !pip install torchvision\n",
    "import torch\n",
    "from torchvision import datasets, transforms\n",
    "import sys\n",
    "import timeit\n",
    "#!pip install factor_analyzer\n",
    "from factor_analyzer import Rotator # May need to be installed; see https://pypi.org/project/factor-analyzer/\n",
    "import matplotlib.pyplot as plt\n",
    "import matplotlib.backends.backend_pdf\n",
    "from pylab import *\n",
    "\n",
    "from utils import *\n",
    "from helper_layers import *\n",
    "from base_class import *\n",
    "from mirt_vae import *\n",
    "from read_data import *\n",
    "\n",
    "# Re-import some packages to reload functions without needing to restart the kernel. jupyter notebook doesn't update the files in the same kernel\n",
    "import sys, importlib\n",
    "importlib.reload(sys.modules[\"utils\"])\n",
    "importlib.reload(sys.modules[\"helper_layers\"])\n",
    "importlib.reload(sys.modules[\"base_class\"])\n",
    "importlib.reload(sys.modules[\"mirt_vae\"])\n",
    "importlib.reload(sys.modules[\"read_data\"])\n",
    "\n",
    "from utils import *\n",
    "from helper_layers import *\n",
    "from base_class import *\n",
    "from mirt_vae import *\n",
    "from read_data import *\n",
    "\n",
    "# Suppress scientific notation.\n",
    "np.set_printoptions(suppress = True)\n",
    "\n",
    "# Print full arrays.\n",
    "np.set_printoptions(threshold = sys.maxsize)\n",
    "\n",
    "# If CUDA is available, use it.\n",
    "cuda = torch.cuda.is_available()\n",
    "device = torch.device(\"cuda\" if cuda else \"cpu\")\n",
    "kwargs = {\"num_workers\" : 1, \"pin_memory\" : True} if cuda else {}\n",
    "\n",
    "# Set log interval.\n",
    "ipip_log_interval = 200"
   ]
  },
  {
   "cell_type": "markdown",
   "metadata": {},
   "source": [
    "## IPIP-FFM Analyses"
   ]
  },
  {
   "cell_type": "markdown",
   "metadata": {},
   "source": [
    "Make IPIP-FFM data loaders."
   ]
  },
  {
   "cell_type": "code",
   "execution_count": 37,
   "metadata": {},
   "outputs": [],
   "source": [
    "ipip_filename = \"ipip_ffm_recoded.csv\"\n",
    "# Python iterable over a dataset, loads data from dataset input, \n",
    "# yields batched samples instead of individual samples, \n",
    "# shuffled sampler automatically constructed\n",
    "# Full data set.\n",
    "ipip_loader = torch.utils.data.DataLoader(\n",
    "    csv_dataset(csv_file = ipip_filename,\n",
    "                which_split = \"full\",\n",
    "                transform = to_tensor()),\n",
    "    batch_size = 32, shuffle = True, **kwargs)\n",
    "\n",
    "# Test data set.\n",
    "ipip_test_loader = torch.utils.data.DataLoader(\n",
    "    csv_dataset(csv_file = ipip_filename,\n",
    "                which_split = \"test-only\",\n",
    "                test_size = 0.025,\n",
    "                transform = to_tensor()),\n",
    "    batch_size = 32, shuffle = True, **kwargs)\n",
    "\n",
    "# Train data set.\n",
    "ipip_train_loader = torch.utils.data.DataLoader(\n",
    "    csv_dataset(csv_file = ipip_filename,\n",
    "                which_split = \"train-only\",\n",
    "                test_size = 0.025,\n",
    "                transform = to_tensor()),\n",
    "    batch_size = 32, shuffle = True, **kwargs)"
   ]
  },
  {
   "cell_type": "code",
   "execution_count": 17,
   "metadata": {},
   "outputs": [
    {
     "data": {
      "text/plain": [
       "[1, 2, 3, 4, 5, 6, 7, 8, 9, 10]"
      ]
     },
     "execution_count": 17,
     "metadata": {},
     "output_type": "execute_result"
    }
   ],
   "source": [
    "latent_dims"
   ]
  },
  {
   "cell_type": "markdown",
   "metadata": {},
   "source": [
    "Fit model and extract some fitted values."
   ]
  },
  {
   "cell_type": "code",
   "execution_count": 16,
   "metadata": {},
   "outputs": [
    {
     "name": "stdout",
     "output_type": "stream",
     "text": [
      "\n",
      "Starting fitting\n",
      "Fitting completed in 142.02 seconds\n",
      "\n",
      "Computing approx. LL\n",
      "Approx. LL computed in 5.92 seconds\n"
     ]
    }
   ],
   "source": [
    "# Set random seeds.\n",
    "seed = 1\n",
    "# sets the seed for generating random numbers\n",
    "torch.manual_seed(seed)\n",
    "np.random.seed(seed)\n",
    "\n",
    "# Initialize model.\n",
    "print(\"\\nStarting fitting\")\n",
    "\n",
    "# starting the timer to count how much time is taken to run code\n",
    "start = timeit.default_timer()\n",
    "ipip_vae = MIRTVAEClass(input_dim = 250, # number of columns in binarized data matrix\n",
    "                        inference_model_dims = [130], # list of neural network hidden layer sizes\n",
    "                        latent_dim = 5, # refers to the output num of dimensions after encoding\n",
    "                        n_cats = [5] * 50, # list of number of categories for each item (because it's a range 1-5)\n",
    "                        learning_rate = 5e-3, # rate at which the model learns \n",
    "                        device = device,\n",
    "                        log_interval = ipip_log_interval,\n",
    "                        steps_anneal = 1e3)\n",
    "\n",
    "\"\"\"\n",
    "Fit model.\n",
    "Note: iw_samples can be increased to improve the approximation to the MMLE.\n",
    "As described in the paper, iw_samples = 5 seems to perform well in practice.\n",
    "\"\"\"\n",
    "ipip_vae.run_training(ipip_loader, ipip_test_loader, iw_samples = 5) # run training on the full dataloader and test loader\n",
    "\n",
    "# stopping timer\n",
    "stop = timeit.default_timer()\n",
    "run_time = stop - start\n",
    "print(\"Fitting completed in\", round(run_time, 2), \"seconds\")\n",
    "\n",
    "# Extract estimated loadings and intercepts.\n",
    "loadings = ipip_vae.model.loadings.weight.data.numpy()\n",
    "intercepts = ipip_vae.model.intercepts.bias.data.numpy()\n",
    "\n",
    "\"\"\"\n",
    "Rotate loadings and extract factor correlations.\n",
    "Note: In the paper I used geomin rotation, whereas here I use oblimin.\n",
    "\"\"\"\n",
    "rotator = Rotator(method = \"oblimin\")\n",
    "rot_loadings = rotator.fit_transform(loadings)\n",
    "cor_mat = rotator.phi_\n",
    "\n",
    "\"\"\"\n",
    "Compute approximate log-likelihood.\n",
    "Note: This computation can be sped up or slowed down by decreasing or increasing\n",
    "iw_samples, respectively. In the paper, I set iw_samples = 5000. \n",
    "\"\"\"\n",
    "print(\"\\nComputing approx. LL\")\n",
    "start = timeit.default_timer()\n",
    "ll = ipip_vae.bic(ipip_test_loader,\n",
    "                  iw_samples = 100)[1]\n",
    "stop = timeit.default_timer()\n",
    "print(\"Approx. LL computed in\", round(stop - start, 2), \"seconds\")\n",
    "\n"
   ]
  },
  {
   "cell_type": "markdown",
   "metadata": {},
   "source": [
    "Print and save factor loadings heatmap."
   ]
  },
  {
   "cell_type": "code",
   "execution_count": 12,
   "metadata": {},
   "outputs": [
    {
     "data": {
      "image/png": "[encoded data removed]",
      "text/plain": [
       "<Figure size 432x288 with 2 Axes>"
      ]
     },
     "metadata": {
      "needs_background": "light"
     },
     "output_type": "display_data"
    }
   ],
   "source": [
    "norm_loadings = normalize_loadings(rot_loadings)\n",
    "c = pcolor(invert_factors(norm_loadings))\n",
    "set_cmap(\"gray_r\")\n",
    "colorbar() \n",
    "c = pcolor(invert_factors(norm_loadings), edgecolors = \"w\", linewidths = 1, vmin = 0) \n",
    "xlabel(\"Factor\")\n",
    "ylabel(\"Item\")\n",
    "xticks(np.arange(loadings.shape[1]) + 0.5,\n",
    "       [\"1\", \"2\", \"3\", \"4\", \"5\"])\n",
    "yticks(np.array([10, 20, 30, 40, 50]) - 0.5, [\"10\", \"20\", \"30\", \"40\", \"50\"])\n",
    "plt.gca().invert_yaxis()\n",
    "suptitle(\"IPIP-FFM Factor Loadings\", y = 0.93)\n",
    "savefig(\"loadings_heatmap.pdf\")"
   ]
  },
  {
   "cell_type": "code",
   "execution_count": 38,
   "metadata": {},
   "outputs": [
    {
     "name": "stdout",
     "output_type": "stream",
     "text": [
      "\n",
      "Starting fitting for P = 1\n",
      "Model fitted, run time = 130.11 seconds\n",
      "Approx. LL stored, computed in 5.66 seconds\n",
      "\n",
      "Starting fitting for P = 2\n",
      "Model fitted, run time = 233.36 seconds\n",
      "Approx. LL stored, computed in 6.13 seconds\n",
      "\n",
      "Starting fitting for P = 3\n",
      "Model fitted, run time = 116.93 seconds\n",
      "Approx. LL stored, computed in 6.64 seconds\n",
      "\n",
      "Starting fitting for P = 4\n",
      "Model fitted, run time = 125.91 seconds\n",
      "Approx. LL stored, computed in 6.54 seconds\n",
      "\n",
      "Starting fitting for P = 5\n",
      "Model fitted, run time = 133.56 seconds\n",
      "Approx. LL stored, computed in 5.88 seconds\n",
      "\n",
      "\n",
      "Latent dimension = 1 Approx. LL = -876788.71\n",
      "Latent dimension = 2 Approx. LL = -847607.55\n",
      "Latent dimension = 3 Approx. LL = -825164.77\n",
      "Latent dimension = 4 Approx. LL = -808162.61\n",
      "Latent dimension = 5 Approx. LL = -792264.79\n"
     ]
    }
   ],
   "source": [
    "# Extract log likelihood\n",
    "log_likelihoods = generate_log_likelihood(seed =1,\n",
    "                            dimensions = 5,\n",
    "                            input_dim = 250,\n",
    "                            inference_model_dims = [130],\n",
    "                            n_cats = [5] * 50,\n",
    "                            learning_rate = 5e-3,\n",
    "                            device = device,\n",
    "                            log_interval = ipip_log_interval,\n",
    "                            steps_anneal = 1e3,\n",
    "                            ipip_train_loader = ipip_train_loader, \n",
    "                            ipip_test_loader = ipip_test_loader,\n",
    "                            iw_samples_training = 5,\n",
    "                            iw_samples_bic = 100)\n"
   ]
  },
  {
   "cell_type": "markdown",
   "metadata": {},
   "source": [
    "Compute predicted approximate negative log-likelihood for latent dimensions P = 1, ..., 10."
   ]
  },
  {
   "cell_type": "code",
   "execution_count": 6,
   "metadata": {},
   "outputs": [
    {
     "name": "stdout",
     "output_type": "stream",
     "text": [
      "\n",
      "Starting fitting for P = 1\n",
      "Model fitted, run time = 115.24 seconds\n",
      "Approx. LL stored, computed in 5.72 seconds\n",
      "\n",
      "Starting fitting for P = 2\n",
      "Model fitted, run time = 175.49 seconds\n",
      "Approx. LL stored, computed in 5.75 seconds\n",
      "\n",
      "Starting fitting for P = 3\n",
      "Model fitted, run time = 210.74 seconds\n",
      "Approx. LL stored, computed in 5.58 seconds\n",
      "\n",
      "Starting fitting for P = 4\n",
      "Model fitted, run time = 292.23 seconds\n",
      "Approx. LL stored, computed in 6.6 seconds\n",
      "\n",
      "Starting fitting for P = 5\n",
      "Model fitted, run time = 177.65 seconds\n",
      "Approx. LL stored, computed in 7.61 seconds\n",
      "\n",
      "Starting fitting for P = 6\n",
      "Model fitted, run time = 151.64 seconds\n",
      "Approx. LL stored, computed in 6.1 seconds\n",
      "\n",
      "Starting fitting for P = 7\n",
      "Model fitted, run time = 149.04 seconds\n",
      "Approx. LL stored, computed in 6.48 seconds\n",
      "\n",
      "Starting fitting for P = 8\n",
      "Model fitted, run time = 256.7 seconds\n",
      "Approx. LL stored, computed in 6.99 seconds\n",
      "\n",
      "Starting fitting for P = 9\n",
      "Model fitted, run time = 253.69 seconds\n",
      "Approx. LL stored, computed in 7.2 seconds\n",
      "\n",
      "Starting fitting for P = 10\n",
      "Model fitted, run time = 209.81 seconds\n",
      "Approx. LL stored, computed in 6.95 seconds\n",
      "\n",
      "\n",
      "Latent dimension = 1 Approx. LL = -876773.49\n",
      "Latent dimension = 2 Approx. LL = -847666.84\n",
      "Latent dimension = 3 Approx. LL = -825335.44\n",
      "Latent dimension = 4 Approx. LL = -808123.12\n",
      "Latent dimension = 5 Approx. LL = -792265.48\n",
      "Latent dimension = 6 Approx. LL = -788904.92\n",
      "Latent dimension = 7 Approx. LL = -786620.24\n",
      "Latent dimension = 8 Approx. LL = -783766.2\n",
      "Latent dimension = 9 Approx. LL = -782193.36\n",
      "Latent dimension = 10 Approx. LL = -780961.48\n"
     ]
    }
   ],
   "source": [
    "ll_ls = []\n",
    "latent_dims = np.arange(1, 11).tolist()\n",
    "for latent_dim in latent_dims:\n",
    "    print(\"\\nStarting fitting for P =\", latent_dim)\n",
    "    \n",
    "    # Set random seeds.\n",
    "    torch.manual_seed(seed)\n",
    "    np.random.seed(seed)\n",
    "\n",
    "    # Initialize model.\n",
    "    start = timeit.default_timer()\n",
    "    ipip_vae = MIRTVAEClass(input_dim = 250,\n",
    "                            inference_model_dims = [int((250 + 2 * latent_dim) / 2)], # adjust NN size for different P\n",
    "                            latent_dim = latent_dim,\n",
    "                            n_cats = [5] * 50,\n",
    "                            learning_rate = 5e-3,\n",
    "                            device = device,\n",
    "                            log_interval = ipip_log_interval,\n",
    "                            steps_anneal = 1e3)\n",
    "\n",
    "    # Fit model.\n",
    "    ipip_vae.run_training(ipip_train_loader, ipip_test_loader, iw_samples = 5)\n",
    "    stop = timeit.default_timer()\n",
    "    \n",
    "    print(\"Model fitted, run time =\", round(stop - start, 2), \"seconds\")\n",
    "    \n",
    "    # Save predicted approximate negative log-likelihood.\n",
    "    torch.manual_seed(seed)\n",
    "    np.random.seed(seed)\n",
    "    start = timeit.default_timer()\n",
    "    ll_ls.append(-ipip_vae.bic(ipip_test_loader, iw_samples = 100)[1]) # I set iw_samples = 5000 in the paper\n",
    "    stop = timeit.default_timer()\n",
    "    \n",
    "    print(\"Approx. LL stored, computed in\", round(stop - start, 2), \"seconds\")\n",
    "    \n",
    "print(\"\\n\")\n",
    "for idx, dim in enumerate(latent_dims):\n",
    "    print(\"Latent dimension =\", dim, \"Approx. LL =\", round(-ll_ls[idx], 2))"
   ]
  },
  {
   "cell_type": "markdown",
   "metadata": {},
   "source": [
    "Print and save scree plot."
   ]
  },
  {
   "cell_type": "code",
   "execution_count": 7,
   "metadata": {},
   "outputs": [
    {
     "name": "stderr",
     "output_type": "stream",
     "text": [
      "/Users/sharahe/opt/anaconda3/lib/python3.7/site-packages/ipykernel_launcher.py:10: UserWarning: Matplotlib is currently using module://ipykernel.pylab.backend_inline, which is a non-GUI backend, so cannot show the figure.\n",
      "  # Remove the CWD from sys.path while we load stuff.\n"
     ]
    },
    {
     "data": {
      "image/png": "[encoded data removed]",
      "text/plain": [
       "<Figure size 360x360 with 1 Axes>"
      ]
     },
     "metadata": {
      "needs_background": "light"
     },
     "output_type": "display_data"
    }
   ],
   "source": [
    "fig, ax = plt.subplots(constrained_layout = True)\n",
    "fig.set_size_inches(5, 5, forward = True)\n",
    "fig.set_size_inches(5, 5, forward = True)\n",
    "ax.axvline(x = 5, color = \"gray\", linestyle = \"--\")\n",
    "ax.plot(np.arange(1, 11).tolist(), [ll for ll in ll_ls], \"k-o\")\n",
    "ax.set_xticks(np.arange(1, 11).tolist())\n",
    "ax.set_ylabel(\"Predicted Approximate Negative Log-Likelihood\")\n",
    "ax.set_xlabel(\"Number of Factors\")\n",
    "fig.suptitle(\"Approximate Log-Likelihood Plot for IPIP-FFM Data\")\n",
    "fig.show()\n",
    "\n",
    "pdf = matplotlib.backends.backend_pdf.PdfPages(\"ipip-ffm_scree_plot.pdf\")\n",
    "pdf.savefig(fig, dpi = 300)\n",
    "pdf.close()"
   ]
  },
  {
   "cell_type": "code",
   "execution_count": 30,
   "metadata": {},
   "outputs": [
    {
     "name": "stderr",
     "output_type": "stream",
     "text": [
      "/Users/sharahe/Desktop/School/GatesLab/deep_exploratory_ifa/mirt_vae.py:435: UserWarning: Matplotlib is currently using module://ipykernel.pylab.backend_inline, which is a non-GUI backend, so cannot show the figure.\n",
      "  fig.show()\n"
     ]
    },
    {
     "data": {
      "image/png": "[encoded data removed]",
      "text/plain": [
       "<Figure size 360x360 with 1 Axes>"
      ]
     },
     "metadata": {
      "needs_background": "light"
     },
     "output_type": "display_data"
    }
   ],
   "source": [
    "scree_plot(dimensions = 5, ll_ls = log_likelihoods)"
   ]
  },
  {
   "cell_type": "code",
   "execution_count": null,
   "metadata": {},
   "outputs": [],
   "source": [
    "loadings_heatmap(rot_loadings)"
   ]
  },
  {
   "cell_type": "code",
   "execution_count": 35,
   "metadata": {},
   "outputs": [
    {
     "ename": "AttributeError",
     "evalue": "'MIRTVAEClass' object has no attribute 'generate_intercepts'",
     "output_type": "error",
     "traceback": [
      "\u001b[0;31m---------------------------------------------------------------------------\u001b[0m",
      "\u001b[0;31mAttributeError\u001b[0m                            Traceback (most recent call last)",
      "\u001b[0;32m<ipython-input-35-f25ba58d82a8>\u001b[0m in \u001b[0;36m<module>\u001b[0;34m\u001b[0m\n\u001b[0;32m----> 1\u001b[0;31m \u001b[0mipip_vae\u001b[0m\u001b[0;34m.\u001b[0m\u001b[0mgenerate_intercepts\u001b[0m\u001b[0;34m(\u001b[0m\u001b[0;34m)\u001b[0m\u001b[0;34m\u001b[0m\u001b[0;34m\u001b[0m\u001b[0m\n\u001b[0m",
      "\u001b[0;31mAttributeError\u001b[0m: 'MIRTVAEClass' object has no attribute 'generate_intercepts'"
     ]
    }
   ],
   "source": [
    "ipip_vae.generate_intercepts()"
   ]
  },
  {
   "cell_type": "code",
   "execution_count": null,
   "metadata": {
    "collapsed": true
   },
   "outputs": [],
   "source": []
  }
 ],
 "metadata": {
  "kernelspec": {
   "display_name": "Python 3",
   "language": "python",
   "name": "python3"
  },
  "language_info": {
   "codemirror_mode": {
    "name": "ipython",
    "version": 3
   },
   "file_extension": ".py",
   "mimetype": "text/x-python",
   "name": "python",
   "nbconvert_exporter": "python",
   "pygments_lexer": "ipython3",
   "version": "3.8.1"
  }
 },
 "nbformat": 4,
 "nbformat_minor": 2
}
